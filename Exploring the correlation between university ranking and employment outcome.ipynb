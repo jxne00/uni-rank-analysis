{
 "cells": [
  {
   "cell_type": "markdown",
   "metadata": {
    "tags": []
   },
   "source": [
    "# Introduction, Aims, and Objectives"
   ]
  },
  {
   "cell_type": "markdown",
   "metadata": {},
   "source": [
    "## Introduction\n",
    "\n",
    "In this project, I will be looking at three of Singapore's local universities to explore the correlation between a university's ranking, and how it has affected the employment outcome of its fresh graduates across the years 2015 to 2021. Additionally, analysis will be carried out to determine whether it is true that university rankings no longer affects the employment outcomes of its fresh graduates as much as it did in previous years. "
   ]
  },
  {
   "cell_type": "markdown",
   "metadata": {
    "tags": []
   },
   "source": [
    "## Background\n",
    "\n",
    "University ranking has always been a universal topic of discussion when determining which university is considered more recognised, more prestigious, and better able to guarantee good employment outcomes for its fresh graduates. University ranking systems such as Times Higher Education(THE) **[1]**, QS Universities Rankings **[2]**, Academic Ranking of World Universities(ARWU)**[3]**, and many more, are not only widely used by students, but also by companies to identify potential employees. This is despite the fact that the evaluation criterias used by these systems to determine those rankings are not necessarily a good measure of the technical abilities and employability of each university's fresh graduates.\n",
    "\n",
    "In Singapore, the general consensus has always been that fresh graduates from a higher ranking local university would be offered better employment opportunities, and a higher starting salary upon graduation, as compared to fresh graduates from a lower ranked local university. This has led to a bias between two fresh graduates where even if both are hired for the same position in the same company, the fresh graduate from the higher ranked university receives better employee benefits and starting salary, even as both offer the same set of skills at the same level of proficiency.\n",
    "\n",
    "This has also created a trend of students looking to pursue undergraduate studies choosing a university based on its ranking, rather than choosing based on which university would best suit their needs. \n",
    "\n",
    "However, over the years, there has been an increasing number of discussions made to argue that more companies in Singapore are now evaluating fresh graduates based on their technical abilities. Thus, providing equal opportunities and benefits to all fresh graduate applicants regardless of the university they had graduated from. As such, suggesting that students in Singapore should no longer use a university's ranking as the main factor of consideration when deciding which university to study in. "
   ]
  },
  {
   "cell_type": "markdown",
   "metadata": {},
   "source": [
    "## Field of interest\n",
    "\n",
    "As a university student myself, I had also taken university rankings into consideration when deciding which university to apply to. This topic piqued my curiosity as to whether it is true that a university's ranking no longer matters as much as it did years ago, with regard to the employment outcome of university fresh graduates from local universities in Singapore.\n",
    "\n",
    "Hence, I will be carrying out analysis to test the two following hypothesis: \n",
    "\n",
    "1. There **is** a correlation between university rankings and employment outcome.\n",
    "2. It is **true** that university rankings no longer affects employment outcomes of local university fresh graduates as much as it did years ago."
   ]
  },
  {
   "cell_type": "markdown",
   "metadata": {},
   "source": [
    "## Aims and Objectives\n",
    "\n",
    "**Aims**\n",
    "\n",
    "The main aim of my analysis is to explore how a university's ranking affects the employment outcome of its fresh graduates over the years, as well as to determine whether university rankings still affects employment outcomes of fresh graduates as much as it did in previous years. \n",
    "\n",
    "**Objectives**\n",
    "\n",
    "1. Determine the ranking baseline of the three local Singapore universities across the years by comparing the ranking outcomes of two reputable ranking systems for accuracy.\n",
    "2. Determine employment outcomes by comparing the difference in salary and employment rate of fresh graduates between different universities.\n",
    "3. Observe any trends between points (1)ranking of each university, and (2)employment outcome to determine if there are any correlations.\n",
    "4. Compare the employment outcomes across the years 2015 to 2021 to observe whether university ranking still affects employment outcome.\n",
    "5. Plot graphs to provide better visualisation of data and trends. "
   ]
  },
  {
   "cell_type": "markdown",
   "metadata": {
    "tags": []
   },
   "source": [
    "# Scope of work and Data pipeline"
   ]
  },
  {
   "cell_type": "markdown",
   "metadata": {},
   "source": [
    "## Scope of work\n",
    "Since the aim of my analysis focuses on university rankings, I will limit my scope such that only Singapore universities that have consistently appeared in the rankings are analysed. Hence, the following three local Singapore universities will be the focus of this analysis:  \n",
    "- National University of Singapore (NUS)\n",
    "- Nanyang Technological University (NTU)\n",
    "- Singapore Management University (SMU)\n",
    "\n",
    "I will also only be looking at the years 2015 to 2021, as these are the years where at least two of the universities above are ranked.\n",
    "\n",
    "In order to determine the ranking baseline of the three universities listed above, I will be comparing the world university ranking results from QS World University Rankings and THE World University Rankings over the years 2015 to 2021. If there are no major differences between the ranking results for all three universities in each year, that ranking will be my baseline. Otherwise, I will make further comparisions with other ranking systems to determine the most recurrent ranking result.\n",
    "\n",
    "Employment outcome will be determined by looking at the full-time employment rate and median basic monthly salary of fresh graduates from each university. \n",
    "\n",
    "*(Note: From this point onwards, I will be referring to the three universities(NUS, NTU, SMU) and two ranking systems(QS, THE) using their respective acronyms.)*"
   ]
  },
  {
   "cell_type": "markdown",
   "metadata": {},
   "source": [
    "## Data processing pipeline\n",
    "\n",
    "1. Prepare and clean the two datasets containing university rankings\n",
    "2. Compare both datasets to find any differences in ranking over the years 2015 to 2021.\n",
    "3. Set the base rank (the ranking that will be used for the rest of the analysis).\n",
    "4. Clean and prepare the dataset containing graduate employment details\n",
    "5. Perform analysis to test the first hypothesis\n",
    "    - Plot graph to show the difference in overall employment rate and basic monthly median salary of the three universities\n",
    "    - Identify the trend (which university shows the highest)\n",
    "    - Reference back to the ranking (does higher rank = higher employment rate and monthly median salary?)\n",
    "6. Perform analysis to test the second hypothesis\n",
    "    - Compare the difference in employment rate and median salary between universities over the years 2015 to 2021.\n",
    "    - Is there a smaller difference in year 2021 as compared to the years before?\n",
    "7. Summarise all findings and state whether each of the two hypothesis tested out to be true or false."
   ]
  },
  {
   "cell_type": "markdown",
   "metadata": {
    "tags": []
   },
   "source": [
    "# Data Sources, Description, and Ethics of use"
   ]
  },
  {
   "cell_type": "markdown",
   "metadata": {},
   "source": [
    "## Data Sources\n",
    "\n",
    "1. (Web Scraping) Singapore region QS World University Rankings all years: https://www.universityrankings.ch/results?ranking=QS&region=World&year=all+years&q=Singapore\n",
    "\n",
    "2. (Web Scraping) Singapore region THE World University Rankings all years: https://www.universityrankings.ch/results?ranking=Times&region=World&year=all+years&q=Singapore \n",
    "\n",
    "3. (CSV Export) Graduate Employment Survey: https://data.gov.sg/dataset/graduate-employment-survey-ntu-nus-sit-smu-suss-sutd"
   ]
  },
  {
   "cell_type": "markdown",
   "metadata": {},
   "source": [
    "## Dataset description and relevance\n",
    "\n",
    "In this project, 3 different sets of data have been used to carry out analysis. Two of which are collected through web scraping.\n",
    "\n",
    "**Data description**  \n",
    "1. The first two sets of data contains world university ranking results by **QS rankings and Times Higher Education ranking systems**, containing only results of Singapore universities throughout years 2004 to 2023. Although the original ranking results are avilable for csv export from the official ranking websites, csv export does not work after applying filters to the table (e.g only display Singapore's universities). Therefore, web scraping would be used to scrape the filtered table containing only ranking datas required.\n",
    "2. The third dataset \"graduate-employment-survey\" was exported as a csv file from **Data.gov.sg**. This dataset consists of data collected from fresh graduates from six local universities in Singapore: NTU, NUS, SIT, SMU, SUSS, and SUTD. Through an exercise called the **Graduate Employment Survey(GES)** held anually, fresh graduates from the six universities are invited to respond to a survey consisting of questions related to their current employment conditions approximately six months after their final university examination. The dataset contains results from 1st January 2013 to 31st December 2021.\n",
    "\n",
    "**Relevance of data to research topic**  \n",
    "- The first two sets of data will be used to determine a ranking baseline for the six local Singapore universities I will be analysing. Comparing between two ranking sources allows for more accuracy in determining a rank. \n",
    "- The third dataset will allow me to determine employment outcomes of fresh graduates as it contains columns such as employment rate, mean and median basic monthly salary. \n",
    "\n",
    "**Other datasets considered**\n",
    "- I had also considered using QS Asia University Rankings **[4]** which is a ranking system with only Asian Universities. This ranking might provide a more accurate representation of ranks due to the differences between Asian and Western education system and structure. However, this ranking system only started in year 2020 so there is a lack of data, and therefore not suitable to be used for my analysis."
   ]
  },
  {
   "cell_type": "markdown",
   "metadata": {},
   "source": [
    "## Ethics of use of data\n",
    "\n",
    "1. Data sources (#1) and (#2) are from **UniversityRankings.ch**, a site showing results of world university rankings from major ranking systems throughout the years, is run by the State Secretariat for Education, Research and Innovation (Switzerland), and swissuniversities. As per the Terms and conditions **[5]**, information on websites run by the Swiss federal authorities is accessible to the public.\n",
    "2. Data source (#3) \"Graduate Employment Survey\" dataset was published on **Data.gov.sg** by The Ministry of Education, Singapore. Data.gov.sg is a Singapore Government Agency website containing datasets published by public agencies in Singapore, and made available to the public. Source acknowledgement and Licence of the dataset can be found under the references section **[6]**. "
   ]
  },
  {
   "cell_type": "markdown",
   "metadata": {},
   "source": [
    "# Import libraries and packages"
   ]
  },
  {
   "cell_type": "code",
   "execution_count": 1,
   "metadata": {},
   "outputs": [],
   "source": [
    "from bs4 import BeautifulSoup\n",
    "import requests\n",
    "import pandas as pd\n",
    "import numpy as np\n",
    "import matplotlib.pyplot as plt\n",
    "import seaborn as sns\n",
    "import itertools"
   ]
  },
  {
   "cell_type": "markdown",
   "metadata": {},
   "source": [
    "# Data Acquisition"
   ]
  },
  {
   "cell_type": "markdown",
   "metadata": {},
   "source": [
    "## Web Scraping\n",
    "In order to determine a ranking baseline, I will be performing web scraping to extract data containing an overview of ranking results of the six local Singapore universities, from two different ranking systems. The website **universityrankings.ch** allows filtering by preferred ranking system, period (years), and a region. The first url I am webscraping from is the search results from filtering by \"QS World University Ranking\", for the period of \"all years\", with the keyword \"Singapore\". The second url is the search result after filtering by \"Times World University Rankings\", for the period of \"all years\", with \"Singapore\" keyword.\n",
    "- qs_url : [QS World University Rankings (filtered by 'Singapore' region)](https://www.universityrankings.ch/results?ranking=QS&region=World&year=all+years&q=Singapore)\n",
    "- the_url: [THE World University Rankings (filtered by 'Singapore' region)](https://www.universityrankings.ch/results?ranking=Times&region=World&year=all+years&q=Singapore)"
   ]
  },
  {
   "cell_type": "markdown",
   "metadata": {},
   "source": [
    "<span style=\"font-size: 145%;font-weight:600\">Helper function</span><br>\n",
    "A helper function send_request() has been defined below to reduce code repetition. The function sends a GET request to the url passed in if the url is valid (webpage exists). If the GET request is successful (status code 200), the html of the webpage is parsed and the page title is printed. The function then returns the parsed html. If the request is unsuccessful, the status code will be returned."
   ]
  },
  {
   "cell_type": "code",
   "execution_count": 2,
   "metadata": {},
   "outputs": [],
   "source": [
    "def send_request(url):\n",
    "    try: # check if url is valid\n",
    "        response = requests.get(url)\n",
    "    \n",
    "    except Exception: # url is invalid\n",
    "        return \"url is not valid.\"\n",
    "    \n",
    "    else: # url is valid\n",
    "        if response.status_code == 200:\n",
    "            print(\"request successful!\")\n",
    "            soup = BeautifulSoup(response.text, \"html.parser\")\n",
    "            \n",
    "            # print title\n",
    "            if soup.title is not None:\n",
    "                print(\"Title: \", soup.title.string)\n",
    "            else:\n",
    "                print(\"No title found.\")\n",
    "                \n",
    "        else: # unsuccessful request \n",
    "            soup = response.status_code\n",
    "            print(\"request unsuccessful.\")\n",
    "        return soup"
   ]
  },
  {
   "cell_type": "markdown",
   "metadata": {},
   "source": [
    "<span style=\"font-size: 145%;font-weight:600\">Carry out web scraping</span><br>\n",
    "Pass both urls into the helper function to scrape the table.<br>\n",
    "If successful, the title should be printed by the function for verifying that the correct html was parsed."
   ]
  },
  {
   "cell_type": "code",
   "execution_count": 3,
   "metadata": {},
   "outputs": [
    {
     "name": "stdout",
     "output_type": "stream",
     "text": [
      "request successful!\n",
      "Title:  QS Ranking all years - Singapore - Results | UniversityRankings.ch\n",
      "request successful!\n",
      "Title:  Times Ranking all years - Singapore - Results | UniversityRankings.ch\n"
     ]
    }
   ],
   "source": [
    "# specify both urls to webscrape from\n",
    "qs_url = \"https://www.universityrankings.ch/results?ranking=QS&region=World&year=all+years&q=Singapore\"\n",
    "the_url = \"https://www.universityrankings.ch/results?ranking=Times&region=World&year=all+years&q=Singapore\"\n",
    "\n",
    "# get parsed html if url is valid\n",
    "qs_soup = send_request(qs_url)\n",
    "the_soup = send_request(the_url)"
   ]
  },
  {
   "cell_type": "markdown",
   "metadata": {},
   "source": [
    "<span style=\"font-size: 145%;font-weight:600\">Convert table into pandas dataframe</span><br>\n",
    "By inspecting the source website, it can be seen that the table containing the ranking results is enclosed in a `<table>` tag, with the class \"RankingTable\". Hence, I will use BeautifulSoup's find() function to extract the table from the parsed html, before using pandas' read_html() function to convert the table into a dataframe. This will be done for both QS ranking(qs_soup) and THE ranking(the_soup)."
   ]
  },
  {
   "cell_type": "code",
   "execution_count": 4,
   "metadata": {},
   "outputs": [],
   "source": [
    "# extract table\n",
    "qs_table = qs_soup.find(\"table\", { \"class\" : \"RankingTable\" })\n",
    "the_table = the_soup.find(\"table\", { \"class\" : \"RankingTable\" })\n",
    "\n",
    "# convert into df\n",
    "qs_df = pd.read_html(str(qs_table))[0]\n",
    "the_df = pd.read_html(str(the_table))[0]"
   ]
  },
  {
   "cell_type": "code",
   "execution_count": 5,
   "metadata": {},
   "outputs": [
    {
     "name": "stdout",
     "output_type": "stream",
     "text": [
      "QS data:  (47, 6)\n"
     ]
    },
    {
     "data": {
      "text/html": [
       "<div>\n",
       "<style scoped>\n",
       "    .dataframe tbody tr th:only-of-type {\n",
       "        vertical-align: middle;\n",
       "    }\n",
       "\n",
       "    .dataframe tbody tr th {\n",
       "        vertical-align: top;\n",
       "    }\n",
       "\n",
       "    .dataframe thead th {\n",
       "        text-align: right;\n",
       "    }\n",
       "</style>\n",
       "<table border=\"1\" class=\"dataframe\">\n",
       "  <thead>\n",
       "    <tr style=\"text-align: right;\">\n",
       "      <th></th>\n",
       "      <th>Unnamed: 0</th>\n",
       "      <th>World Rank▲ ▼</th>\n",
       "      <th>Institution▲ ▼</th>\n",
       "      <th>Country▲ ▼</th>\n",
       "      <th>Year ▲ ▼</th>\n",
       "      <th>Unnamed: 5</th>\n",
       "    </tr>\n",
       "  </thead>\n",
       "  <tbody>\n",
       "    <tr>\n",
       "      <th>0</th>\n",
       "      <td>1</td>\n",
       "      <td>11 ▲</td>\n",
       "      <td>Nanyang Technological University</td>\n",
       "      <td>NaN</td>\n",
       "      <td>2020</td>\n",
       "      <td>NaN</td>\n",
       "    </tr>\n",
       "    <tr>\n",
       "      <th>1</th>\n",
       "      <td>2</td>\n",
       "      <td>11 ▲</td>\n",
       "      <td>Nanyang Technological University</td>\n",
       "      <td>NaN</td>\n",
       "      <td>2018</td>\n",
       "      <td>NaN</td>\n",
       "    </tr>\n",
       "    <tr>\n",
       "      <th>2</th>\n",
       "      <td>3</td>\n",
       "      <td>11 =</td>\n",
       "      <td>National University of Singapore</td>\n",
       "      <td>NaN</td>\n",
       "      <td>2023</td>\n",
       "      <td>NaN</td>\n",
       "    </tr>\n",
       "    <tr>\n",
       "      <th>3</th>\n",
       "      <td>4</td>\n",
       "      <td>11 =</td>\n",
       "      <td>National University of Singapore</td>\n",
       "      <td>NaN</td>\n",
       "      <td>2022</td>\n",
       "      <td>NaN</td>\n",
       "    </tr>\n",
       "    <tr>\n",
       "      <th>4</th>\n",
       "      <td>5</td>\n",
       "      <td>11 =</td>\n",
       "      <td>National University of Singapore</td>\n",
       "      <td>NaN</td>\n",
       "      <td>2021</td>\n",
       "      <td>NaN</td>\n",
       "    </tr>\n",
       "  </tbody>\n",
       "</table>\n",
       "</div>"
      ],
      "text/plain": [
       "   Unnamed: 0 World Rank▲ ▼                    Institution▲ ▼  Country▲ ▼  \\\n",
       "0           1          11 ▲  Nanyang Technological University         NaN   \n",
       "1           2          11 ▲  Nanyang Technological University         NaN   \n",
       "2           3          11 =  National University of Singapore         NaN   \n",
       "3           4          11 =  National University of Singapore         NaN   \n",
       "4           5          11 =  National University of Singapore         NaN   \n",
       "\n",
       "   Year ▲ ▼  Unnamed: 5  \n",
       "0      2020         NaN  \n",
       "1      2018         NaN  \n",
       "2      2023         NaN  \n",
       "3      2022         NaN  \n",
       "4      2021         NaN  "
      ]
     },
     "metadata": {},
     "output_type": "display_data"
    },
    {
     "name": "stdout",
     "output_type": "stream",
     "text": [
      "THE data:  (26, 6)\n"
     ]
    },
    {
     "data": {
      "text/html": [
       "<div>\n",
       "<style scoped>\n",
       "    .dataframe tbody tr th:only-of-type {\n",
       "        vertical-align: middle;\n",
       "    }\n",
       "\n",
       "    .dataframe tbody tr th {\n",
       "        vertical-align: top;\n",
       "    }\n",
       "\n",
       "    .dataframe thead th {\n",
       "        text-align: right;\n",
       "    }\n",
       "</style>\n",
       "<table border=\"1\" class=\"dataframe\">\n",
       "  <thead>\n",
       "    <tr style=\"text-align: right;\">\n",
       "      <th></th>\n",
       "      <th>Unnamed: 0</th>\n",
       "      <th>World Rank▲ ▼</th>\n",
       "      <th>Institution▲ ▼</th>\n",
       "      <th>Country▲ ▼</th>\n",
       "      <th>Year ▲ ▼</th>\n",
       "      <th>Unnamed: 5</th>\n",
       "    </tr>\n",
       "  </thead>\n",
       "  <tbody>\n",
       "    <tr>\n",
       "      <th>0</th>\n",
       "      <td>1</td>\n",
       "      <td>19 ▲</td>\n",
       "      <td>National University of Singapore</td>\n",
       "      <td>NaN</td>\n",
       "      <td>2023</td>\n",
       "      <td>NaN</td>\n",
       "    </tr>\n",
       "    <tr>\n",
       "      <th>1</th>\n",
       "      <td>2</td>\n",
       "      <td>21 ▲</td>\n",
       "      <td>National University of Singapore</td>\n",
       "      <td>NaN</td>\n",
       "      <td>2022</td>\n",
       "      <td>NaN</td>\n",
       "    </tr>\n",
       "    <tr>\n",
       "      <th>2</th>\n",
       "      <td>3</td>\n",
       "      <td>22 ▲</td>\n",
       "      <td>National University of Singapore</td>\n",
       "      <td>NaN</td>\n",
       "      <td>2018</td>\n",
       "      <td>NaN</td>\n",
       "    </tr>\n",
       "    <tr>\n",
       "      <th>3</th>\n",
       "      <td>4</td>\n",
       "      <td>23 ▼</td>\n",
       "      <td>National University of Singapore</td>\n",
       "      <td>NaN</td>\n",
       "      <td>2019</td>\n",
       "      <td>NaN</td>\n",
       "    </tr>\n",
       "    <tr>\n",
       "      <th>4</th>\n",
       "      <td>5</td>\n",
       "      <td>24 ▲</td>\n",
       "      <td>National University of Singapore</td>\n",
       "      <td>NaN</td>\n",
       "      <td>2017</td>\n",
       "      <td>NaN</td>\n",
       "    </tr>\n",
       "  </tbody>\n",
       "</table>\n",
       "</div>"
      ],
      "text/plain": [
       "   Unnamed: 0 World Rank▲ ▼                    Institution▲ ▼  Country▲ ▼  \\\n",
       "0           1          19 ▲  National University of Singapore         NaN   \n",
       "1           2          21 ▲  National University of Singapore         NaN   \n",
       "2           3          22 ▲  National University of Singapore         NaN   \n",
       "3           4          23 ▼  National University of Singapore         NaN   \n",
       "4           5          24 ▲  National University of Singapore         NaN   \n",
       "\n",
       "   Year ▲ ▼  Unnamed: 5  \n",
       "0      2023         NaN  \n",
       "1      2022         NaN  \n",
       "2      2018         NaN  \n",
       "3      2019         NaN  \n",
       "4      2017         NaN  "
      ]
     },
     "metadata": {},
     "output_type": "display_data"
    }
   ],
   "source": [
    "# show rows and columns of both dataframes\n",
    "print('QS data: ', qs_df.shape)\n",
    "# show first 5 rows of both dataframes\n",
    "display(qs_df.head())\n",
    "\n",
    "print('THE data: ', the_df.shape)\n",
    "display(the_df.head())"
   ]
  },
  {
   "cell_type": "markdown",
   "metadata": {},
   "source": [
    "## Verify scraped data\n",
    "\n",
    "In the source webpage, the table containing QS Rankings should contain 47 rows and six columns in total, and the table containing THE Rankings should have 26 rows and six columns in total. Based on the output of the cell above, both 'qs_df' and 'the_df' dataframes have the exact number of rows and columns expected. \n",
    "\n",
    "However, it can be observed that there are two unnamed column, and two columns containing NaN values. Referring back to the source webpage, the first unnamed column seems to be the index column while the second unnamed column and \"Country\" column, both contain buttons which are unrelated to my analysis. Hence, I will leave the NaN values to be cleaned later on."
   ]
  },
  {
   "cell_type": "markdown",
   "metadata": {},
   "source": [
    "## Write scraped data to csv\n",
    "\n",
    "Since both data that has just been scraped is of university rankings, this means that information in the table will definitely be updated whenever a new year's ranking is released by THE or QS. And it is hard to say whether future updates made to the webpage will cause the webscraping process to fail due to change in html class names or tags.\n",
    "\n",
    "Therefore, I will write the current two dataframes into csv files so that even if the web scraping fails when the source webpage gets updated in the future, it will not affect my analysis."
   ]
  },
  {
   "cell_type": "code",
   "execution_count": 6,
   "metadata": {},
   "outputs": [],
   "source": [
    "# write to the path (dataset > scraped)\n",
    "qs_df.to_csv('dataset\\scraped\\qs_ranking_scraped.csv', index=False)\n",
    "the_df.to_csv('dataset\\scraped\\\\the_ranking_scraped.csv', index=False)"
   ]
  },
  {
   "cell_type": "markdown",
   "metadata": {},
   "source": [
    "# Cleaning and Processing of data\n",
    "Before getting to the analysis, cleaning and processing will be done for all datasets so that they will be easy to work with later on. Since both the QS ranking and THE ranking datasets are scraped from the same website, they both have a similar structure. Therefore, I clean both using similar methods."
   ]
  },
  {
   "cell_type": "markdown",
   "metadata": {},
   "source": [
    "## Cleaning of University Ranking data"
   ]
  },
  {
   "cell_type": "code",
   "execution_count": 7,
   "metadata": {},
   "outputs": [],
   "source": [
    "# load the two csv files created earlier\n",
    "qs_df = pd.read_csv('dataset/scraped/qs_ranking_scraped.csv')\n",
    "the_df = pd.read_csv('dataset/scraped/the_ranking_scraped.csv')"
   ]
  },
  {
   "cell_type": "code",
   "execution_count": 8,
   "metadata": {},
   "outputs": [
    {
     "name": "stdout",
     "output_type": "stream",
     "text": [
      "<class 'pandas.core.frame.DataFrame'>\n",
      "RangeIndex: 47 entries, 0 to 46\n",
      "Data columns (total 6 columns):\n",
      " #   Column          Non-Null Count  Dtype  \n",
      "---  ------          --------------  -----  \n",
      " 0   Unnamed: 0      47 non-null     int64  \n",
      " 1   World Rank▲ ▼   47 non-null     object \n",
      " 2   Institution▲ ▼  47 non-null     object \n",
      " 3   Country▲ ▼      0 non-null      float64\n",
      " 4   Year ▲ ▼        47 non-null     int64  \n",
      " 5   Unnamed: 5      0 non-null      float64\n",
      "dtypes: float64(2), int64(2), object(2)\n",
      "memory usage: 2.3+ KB\n"
     ]
    }
   ],
   "source": [
    "# show summary of dataframe for QS ranking\n",
    "qs_df.info()"
   ]
  },
  {
   "cell_type": "code",
   "execution_count": 9,
   "metadata": {},
   "outputs": [
    {
     "name": "stdout",
     "output_type": "stream",
     "text": [
      "<class 'pandas.core.frame.DataFrame'>\n",
      "RangeIndex: 26 entries, 0 to 25\n",
      "Data columns (total 6 columns):\n",
      " #   Column          Non-Null Count  Dtype  \n",
      "---  ------          --------------  -----  \n",
      " 0   Unnamed: 0      26 non-null     int64  \n",
      " 1   World Rank▲ ▼   26 non-null     object \n",
      " 2   Institution▲ ▼  26 non-null     object \n",
      " 3   Country▲ ▼      0 non-null      float64\n",
      " 4   Year ▲ ▼        26 non-null     int64  \n",
      " 5   Unnamed: 5      0 non-null      float64\n",
      "dtypes: float64(2), int64(2), object(2)\n",
      "memory usage: 1.3+ KB\n"
     ]
    }
   ],
   "source": [
    "# show summary of dataframe for THE ranking\n",
    "the_df.info()"
   ]
  },
  {
   "cell_type": "markdown",
   "metadata": {},
   "source": [
    "Observing the infomation of both dataframes printed above, the following issues can be spotted:\n",
    "- The columns \"Country\" and \"Unnamed: 5\" both has 0 non null values, which means the column only contains NaN values. \n",
    "- The column headers and some rows contain non-alphanumeric characters.\n",
    "- There are two unnamed columns.\n",
    "\n",
    "Cleaning will now be carried out to solve the issues listed."
   ]
  },
  {
   "cell_type": "code",
   "execution_count": 10,
   "metadata": {},
   "outputs": [
    {
     "name": "stdout",
     "output_type": "stream",
     "text": [
      "QS: \n"
     ]
    },
    {
     "data": {
      "text/html": [
       "<div>\n",
       "<style scoped>\n",
       "    .dataframe tbody tr th:only-of-type {\n",
       "        vertical-align: middle;\n",
       "    }\n",
       "\n",
       "    .dataframe tbody tr th {\n",
       "        vertical-align: top;\n",
       "    }\n",
       "\n",
       "    .dataframe thead th {\n",
       "        text-align: right;\n",
       "    }\n",
       "</style>\n",
       "<table border=\"1\" class=\"dataframe\">\n",
       "  <thead>\n",
       "    <tr style=\"text-align: right;\">\n",
       "      <th></th>\n",
       "      <th>Rank</th>\n",
       "      <th>University</th>\n",
       "      <th>Year</th>\n",
       "    </tr>\n",
       "  </thead>\n",
       "  <tbody>\n",
       "    <tr>\n",
       "      <th>0</th>\n",
       "      <td>11 ▲</td>\n",
       "      <td>Nanyang Technological University</td>\n",
       "      <td>2020</td>\n",
       "    </tr>\n",
       "    <tr>\n",
       "      <th>1</th>\n",
       "      <td>11 ▲</td>\n",
       "      <td>Nanyang Technological University</td>\n",
       "      <td>2018</td>\n",
       "    </tr>\n",
       "    <tr>\n",
       "      <th>2</th>\n",
       "      <td>11 =</td>\n",
       "      <td>National University of Singapore</td>\n",
       "      <td>2023</td>\n",
       "    </tr>\n",
       "    <tr>\n",
       "      <th>3</th>\n",
       "      <td>11 =</td>\n",
       "      <td>National University of Singapore</td>\n",
       "      <td>2022</td>\n",
       "    </tr>\n",
       "    <tr>\n",
       "      <th>4</th>\n",
       "      <td>11 =</td>\n",
       "      <td>National University of Singapore</td>\n",
       "      <td>2021</td>\n",
       "    </tr>\n",
       "  </tbody>\n",
       "</table>\n",
       "</div>"
      ],
      "text/plain": [
       "   Rank                        University  Year\n",
       "0  11 ▲  Nanyang Technological University  2020\n",
       "1  11 ▲  Nanyang Technological University  2018\n",
       "2  11 =  National University of Singapore  2023\n",
       "3  11 =  National University of Singapore  2022\n",
       "4  11 =  National University of Singapore  2021"
      ]
     },
     "metadata": {},
     "output_type": "display_data"
    },
    {
     "name": "stdout",
     "output_type": "stream",
     "text": [
      "THE: \n"
     ]
    },
    {
     "data": {
      "text/html": [
       "<div>\n",
       "<style scoped>\n",
       "    .dataframe tbody tr th:only-of-type {\n",
       "        vertical-align: middle;\n",
       "    }\n",
       "\n",
       "    .dataframe tbody tr th {\n",
       "        vertical-align: top;\n",
       "    }\n",
       "\n",
       "    .dataframe thead th {\n",
       "        text-align: right;\n",
       "    }\n",
       "</style>\n",
       "<table border=\"1\" class=\"dataframe\">\n",
       "  <thead>\n",
       "    <tr style=\"text-align: right;\">\n",
       "      <th></th>\n",
       "      <th>Rank</th>\n",
       "      <th>University</th>\n",
       "      <th>Year</th>\n",
       "    </tr>\n",
       "  </thead>\n",
       "  <tbody>\n",
       "    <tr>\n",
       "      <th>0</th>\n",
       "      <td>19 ▲</td>\n",
       "      <td>National University of Singapore</td>\n",
       "      <td>2023</td>\n",
       "    </tr>\n",
       "    <tr>\n",
       "      <th>1</th>\n",
       "      <td>21 ▲</td>\n",
       "      <td>National University of Singapore</td>\n",
       "      <td>2022</td>\n",
       "    </tr>\n",
       "    <tr>\n",
       "      <th>2</th>\n",
       "      <td>22 ▲</td>\n",
       "      <td>National University of Singapore</td>\n",
       "      <td>2018</td>\n",
       "    </tr>\n",
       "    <tr>\n",
       "      <th>3</th>\n",
       "      <td>23 ▼</td>\n",
       "      <td>National University of Singapore</td>\n",
       "      <td>2019</td>\n",
       "    </tr>\n",
       "    <tr>\n",
       "      <th>4</th>\n",
       "      <td>24 ▲</td>\n",
       "      <td>National University of Singapore</td>\n",
       "      <td>2017</td>\n",
       "    </tr>\n",
       "  </tbody>\n",
       "</table>\n",
       "</div>"
      ],
      "text/plain": [
       "   Rank                        University  Year\n",
       "0  19 ▲  National University of Singapore  2023\n",
       "1  21 ▲  National University of Singapore  2022\n",
       "2  22 ▲  National University of Singapore  2018\n",
       "3  23 ▼  National University of Singapore  2019\n",
       "4  24 ▲  National University of Singapore  2017"
      ]
     },
     "metadata": {},
     "output_type": "display_data"
    }
   ],
   "source": [
    "# drop the first unnamed column\n",
    "qs_df.drop(columns=qs_df.columns[0], axis=1, inplace=True)\n",
    "the_df.drop(columns=the_df.columns[0], axis=1, inplace=True)\n",
    "\n",
    "# drop columns containing all NaN rows\n",
    "qs_df.dropna(axis=1, how='all', inplace=True)\n",
    "the_df.dropna(axis=1, how='all', inplace=True)\n",
    "\n",
    "# rename column headers\n",
    "col = ['Rank', 'University', 'Year']\n",
    "qs_df.columns = col\n",
    "the_df.columns = col\n",
    "\n",
    "print('QS: ')\n",
    "display(qs_df.head())\n",
    "print('THE: ')\n",
    "display(the_df.head())"
   ]
  },
  {
   "cell_type": "markdown",
   "metadata": {},
   "source": [
    "<span style=\"font-size: 145%;font-weight:600\">Rearrange dataframe rows and columns</span>"
   ]
  },
  {
   "cell_type": "code",
   "execution_count": 11,
   "metadata": {},
   "outputs": [],
   "source": [
    "# function to replace university names with synonym\n",
    "def use_acronym(df, colName):\n",
    "    uniDict = { 'National University of Singapore' : 'NUS',\n",
    "                'Nanyang Technological University' : 'NTU',\n",
    "                'Singapore Management University' : 'SMU',\n",
    "                'Singapore Institute of Technology' : 'SIT',\n",
    "                'Singapore University of Technology and Design' : 'SUTD',\n",
    "                'Singapore University of Social Sciences' : 'SUSS' }\n",
    "    \n",
    "    df = df.replace({ colName : uniDict })\n",
    "    return df"
   ]
  },
  {
   "cell_type": "code",
   "execution_count": 12,
   "metadata": {},
   "outputs": [
    {
     "name": "stdout",
     "output_type": "stream",
     "text": [
      "QS: \n"
     ]
    },
    {
     "data": {
      "text/html": [
       "<div>\n",
       "<style scoped>\n",
       "    .dataframe tbody tr th:only-of-type {\n",
       "        vertical-align: middle;\n",
       "    }\n",
       "\n",
       "    .dataframe tbody tr th {\n",
       "        vertical-align: top;\n",
       "    }\n",
       "\n",
       "    .dataframe thead th {\n",
       "        text-align: right;\n",
       "    }\n",
       "</style>\n",
       "<table border=\"1\" class=\"dataframe\">\n",
       "  <thead>\n",
       "    <tr style=\"text-align: right;\">\n",
       "      <th></th>\n",
       "      <th>Year</th>\n",
       "      <th>University</th>\n",
       "      <th>Rank</th>\n",
       "    </tr>\n",
       "  </thead>\n",
       "  <tbody>\n",
       "    <tr>\n",
       "      <th>0</th>\n",
       "      <td>2020</td>\n",
       "      <td>NTU</td>\n",
       "      <td>11</td>\n",
       "    </tr>\n",
       "    <tr>\n",
       "      <th>1</th>\n",
       "      <td>2018</td>\n",
       "      <td>NTU</td>\n",
       "      <td>11</td>\n",
       "    </tr>\n",
       "    <tr>\n",
       "      <th>2</th>\n",
       "      <td>2023</td>\n",
       "      <td>NUS</td>\n",
       "      <td>11</td>\n",
       "    </tr>\n",
       "    <tr>\n",
       "      <th>3</th>\n",
       "      <td>2022</td>\n",
       "      <td>NUS</td>\n",
       "      <td>11</td>\n",
       "    </tr>\n",
       "    <tr>\n",
       "      <th>4</th>\n",
       "      <td>2021</td>\n",
       "      <td>NUS</td>\n",
       "      <td>11</td>\n",
       "    </tr>\n",
       "  </tbody>\n",
       "</table>\n",
       "</div>"
      ],
      "text/plain": [
       "   Year University Rank\n",
       "0  2020        NTU  11 \n",
       "1  2018        NTU  11 \n",
       "2  2023        NUS  11 \n",
       "3  2022        NUS  11 \n",
       "4  2021        NUS  11 "
      ]
     },
     "metadata": {},
     "output_type": "display_data"
    },
    {
     "name": "stdout",
     "output_type": "stream",
     "text": [
      "THE: \n"
     ]
    },
    {
     "data": {
      "text/html": [
       "<div>\n",
       "<style scoped>\n",
       "    .dataframe tbody tr th:only-of-type {\n",
       "        vertical-align: middle;\n",
       "    }\n",
       "\n",
       "    .dataframe tbody tr th {\n",
       "        vertical-align: top;\n",
       "    }\n",
       "\n",
       "    .dataframe thead th {\n",
       "        text-align: right;\n",
       "    }\n",
       "</style>\n",
       "<table border=\"1\" class=\"dataframe\">\n",
       "  <thead>\n",
       "    <tr style=\"text-align: right;\">\n",
       "      <th></th>\n",
       "      <th>Year</th>\n",
       "      <th>University</th>\n",
       "      <th>Rank</th>\n",
       "    </tr>\n",
       "  </thead>\n",
       "  <tbody>\n",
       "    <tr>\n",
       "      <th>0</th>\n",
       "      <td>2023</td>\n",
       "      <td>NUS</td>\n",
       "      <td>19</td>\n",
       "    </tr>\n",
       "    <tr>\n",
       "      <th>1</th>\n",
       "      <td>2022</td>\n",
       "      <td>NUS</td>\n",
       "      <td>21</td>\n",
       "    </tr>\n",
       "    <tr>\n",
       "      <th>2</th>\n",
       "      <td>2018</td>\n",
       "      <td>NUS</td>\n",
       "      <td>22</td>\n",
       "    </tr>\n",
       "    <tr>\n",
       "      <th>3</th>\n",
       "      <td>2019</td>\n",
       "      <td>NUS</td>\n",
       "      <td>23</td>\n",
       "    </tr>\n",
       "    <tr>\n",
       "      <th>4</th>\n",
       "      <td>2017</td>\n",
       "      <td>NUS</td>\n",
       "      <td>24</td>\n",
       "    </tr>\n",
       "  </tbody>\n",
       "</table>\n",
       "</div>"
      ],
      "text/plain": [
       "   Year University Rank\n",
       "0  2023        NUS  19 \n",
       "1  2022        NUS  21 \n",
       "2  2018        NUS  22 \n",
       "3  2019        NUS  23 \n",
       "4  2017        NUS  24 "
      ]
     },
     "metadata": {},
     "output_type": "display_data"
    }
   ],
   "source": [
    "# re-arrange the columns in the order -> Year, University, Rank\n",
    "arranged = ['Year', 'University', 'Rank']\n",
    "qs_df = qs_df.reindex(columns=arranged)\n",
    "the_df = the_df.reindex(columns=arranged)\n",
    "\n",
    "# replace all non alphanumeric characters, non-spaces, and non-dashes with whitespace\n",
    "exp = '[^a-zA-Z0-9\\-\\ ]'\n",
    "qs_df = qs_df.replace(exp, '', regex=True)\n",
    "the_df = the_df.replace(exp, '', regex=True)\n",
    "\n",
    "qs_df = use_acronym(qs_df, 'University')\n",
    "the_df = use_acronym(the_df, 'University')\n",
    "\n",
    "print('QS: ')\n",
    "display(qs_df.head())\n",
    "print('THE: ')\n",
    "display(the_df.head())"
   ]
  },
  {
   "cell_type": "markdown",
   "metadata": {},
   "source": [
    "From the output of 'qs_df' dataframe above, it can be observed that SMU's \"Rank\" column contain rows with hypens to indicate a range of rank. According to the FAQ page on QS Universities' website **[7]**, it is stated that universities ranked lower than a certain rank will be gouped into a range of ranking instead of being given a single rank.\n",
    "\n",
    "Since the rank of SMU can be seen to be lower compared to NUS and NTU, it will not affect the result of my analysis no matter which number is used within the stated range. Hence, I will modify the \"Rank\" column such that rows containing a hypen will have its values replaced by only the first three characters. This will prevent issues from arising when sorting the rows later on."
   ]
  },
  {
   "cell_type": "code",
   "execution_count": 13,
   "metadata": {},
   "outputs": [
    {
     "data": {
      "text/html": [
       "<div>\n",
       "<style scoped>\n",
       "    .dataframe tbody tr th:only-of-type {\n",
       "        vertical-align: middle;\n",
       "    }\n",
       "\n",
       "    .dataframe tbody tr th {\n",
       "        vertical-align: top;\n",
       "    }\n",
       "\n",
       "    .dataframe thead th {\n",
       "        text-align: right;\n",
       "    }\n",
       "</style>\n",
       "<table border=\"1\" class=\"dataframe\">\n",
       "  <thead>\n",
       "    <tr style=\"text-align: right;\">\n",
       "      <th></th>\n",
       "      <th>Year</th>\n",
       "      <th>University</th>\n",
       "      <th>Rank</th>\n",
       "    </tr>\n",
       "  </thead>\n",
       "  <tbody>\n",
       "    <tr>\n",
       "      <th>40</th>\n",
       "      <td>2017</td>\n",
       "      <td>SMU</td>\n",
       "      <td>431-440</td>\n",
       "    </tr>\n",
       "    <tr>\n",
       "      <th>41</th>\n",
       "      <td>2018</td>\n",
       "      <td>SMU</td>\n",
       "      <td>441-450</td>\n",
       "    </tr>\n",
       "    <tr>\n",
       "      <th>44</th>\n",
       "      <td>2022</td>\n",
       "      <td>SMU</td>\n",
       "      <td>511-520</td>\n",
       "    </tr>\n",
       "    <tr>\n",
       "      <th>45</th>\n",
       "      <td>2021</td>\n",
       "      <td>SMU</td>\n",
       "      <td>511-520</td>\n",
       "    </tr>\n",
       "    <tr>\n",
       "      <th>46</th>\n",
       "      <td>2023</td>\n",
       "      <td>SMU</td>\n",
       "      <td>561-570</td>\n",
       "    </tr>\n",
       "  </tbody>\n",
       "</table>\n",
       "</div>"
      ],
      "text/plain": [
       "    Year University      Rank\n",
       "40  2017        SMU  431-440 \n",
       "41  2018        SMU  441-450 \n",
       "44  2022        SMU  511-520 \n",
       "45  2021        SMU  511-520 \n",
       "46  2023        SMU  561-570 "
      ]
     },
     "metadata": {},
     "output_type": "display_data"
    },
    {
     "data": {
      "text/html": [
       "<div>\n",
       "<style scoped>\n",
       "    .dataframe tbody tr th:only-of-type {\n",
       "        vertical-align: middle;\n",
       "    }\n",
       "\n",
       "    .dataframe tbody tr th {\n",
       "        vertical-align: top;\n",
       "    }\n",
       "\n",
       "    .dataframe thead th {\n",
       "        text-align: right;\n",
       "    }\n",
       "</style>\n",
       "<table border=\"1\" class=\"dataframe\">\n",
       "  <thead>\n",
       "    <tr style=\"text-align: right;\">\n",
       "      <th></th>\n",
       "      <th>Year</th>\n",
       "      <th>University</th>\n",
       "      <th>Rank</th>\n",
       "    </tr>\n",
       "  </thead>\n",
       "  <tbody>\n",
       "    <tr>\n",
       "      <th>40</th>\n",
       "      <td>2017</td>\n",
       "      <td>SMU</td>\n",
       "      <td>431</td>\n",
       "    </tr>\n",
       "    <tr>\n",
       "      <th>41</th>\n",
       "      <td>2018</td>\n",
       "      <td>SMU</td>\n",
       "      <td>441</td>\n",
       "    </tr>\n",
       "    <tr>\n",
       "      <th>44</th>\n",
       "      <td>2022</td>\n",
       "      <td>SMU</td>\n",
       "      <td>511</td>\n",
       "    </tr>\n",
       "    <tr>\n",
       "      <th>45</th>\n",
       "      <td>2021</td>\n",
       "      <td>SMU</td>\n",
       "      <td>511</td>\n",
       "    </tr>\n",
       "    <tr>\n",
       "      <th>46</th>\n",
       "      <td>2023</td>\n",
       "      <td>SMU</td>\n",
       "      <td>561</td>\n",
       "    </tr>\n",
       "  </tbody>\n",
       "</table>\n",
       "</div>"
      ],
      "text/plain": [
       "    Year University Rank\n",
       "40  2017        SMU  431\n",
       "41  2018        SMU  441\n",
       "44  2022        SMU  511\n",
       "45  2021        SMU  511\n",
       "46  2023        SMU  561"
      ]
     },
     "metadata": {},
     "output_type": "display_data"
    }
   ],
   "source": [
    "# filter out the rows where its 'Rank' value contains a hyphen\n",
    "cond = qs_df['Rank'].str.contains('-')\n",
    "display(qs_df[cond])\n",
    "\n",
    "# modify those rows by setting its new value to only the first 3 characters\n",
    "qs_df.loc[cond, 'Rank'] = qs_df.loc[cond, 'Rank'].str[:3]\n",
    "display(qs_df[cond])"
   ]
  },
  {
   "cell_type": "markdown",
   "metadata": {},
   "source": [
    "As mentioned in the scope, I will only be focusing on the years from 2015 to 2021. Hence, rows where the year is out of this range will be dropped."
   ]
  },
  {
   "cell_type": "code",
   "execution_count": 14,
   "metadata": {},
   "outputs": [
    {
     "name": "stdout",
     "output_type": "stream",
     "text": [
      "QS:  [2015 2016 2017 2018 2019 2020 2021]\n",
      "THE:  [2015 2016 2017 2018 2019 2020 2021]\n"
     ]
    }
   ],
   "source": [
    "# only years between 2015(inclusive) and 2021(inclusive)\n",
    "cond_qs = (qs_df['Year'] >= 2015) & (qs_df['Year'] <= 2021)\n",
    "cond_the = (the_df['Year'] >= 2015) & (the_df['Year'] <= 2021)\n",
    "\n",
    "qs_df = qs_df[cond_qs]\n",
    "the_df = the_df[cond_the]\n",
    "\n",
    "# sort by 'year' column followed by 'rank' column\n",
    "qs_df.sort_values(by=['Year', 'Rank'], ascending=True, inplace=True)\n",
    "the_df.sort_values(by=['Year', 'Rank'], ascending=True, inplace=True)\n",
    "\n",
    "# display unique years to check\n",
    "print('QS: ', qs_df['Year'].unique())\n",
    "print('THE: ', the_df['Year'].unique())"
   ]
  },
  {
   "cell_type": "markdown",
   "metadata": {},
   "source": [
    "## Cleaning of Graduate Employment Survey data\n",
    "\n",
    "One last dataset required for my analysis is the \"graduate-employment-survey.csv\" which I had exported from _Data.gov.sg._ and saved under the dataset folder."
   ]
  },
  {
   "cell_type": "code",
   "execution_count": 15,
   "metadata": {},
   "outputs": [
    {
     "name": "stdout",
     "output_type": "stream",
     "text": [
      "<class 'pandas.core.frame.DataFrame'>\n",
      "RangeIndex: 1121 entries, 0 to 1120\n",
      "Data columns (total 12 columns):\n",
      " #   Column                     Non-Null Count  Dtype \n",
      "---  ------                     --------------  ----- \n",
      " 0   year                       1121 non-null   int64 \n",
      " 1   university                 1121 non-null   object\n",
      " 2   school                     1121 non-null   object\n",
      " 3   degree                     1121 non-null   object\n",
      " 4   employment_rate_overall    1121 non-null   object\n",
      " 5   employment_rate_ft_perm    1121 non-null   object\n",
      " 6   basic_monthly_mean         1121 non-null   object\n",
      " 7   basic_monthly_median       1121 non-null   object\n",
      " 8   gross_monthly_mean         1121 non-null   object\n",
      " 9   gross_monthly_median       1121 non-null   object\n",
      " 10  gross_mthly_25_percentile  1121 non-null   object\n",
      " 11  gross_mthly_75_percentile  1121 non-null   object\n",
      "dtypes: int64(1), object(11)\n",
      "memory usage: 105.2+ KB\n"
     ]
    }
   ],
   "source": [
    "# load GES dataset\n",
    "# text encoding in 'latin-1' so that characters such as 'ä' in 'universität münchen' can be read and displayed\n",
    "ges_df = pd.read_csv('dataset/graduate-employment-survey.csv', encoding='latin-1')\n",
    "ges_df.info()"
   ]
  },
  {
   "cell_type": "markdown",
   "metadata": {},
   "source": [
    "First, I will drop columns that will not be used in my analysis, followed by renaming columns. When exporting, all spaces were replaced with underscores, so I wil change them back to spaces. Afterwhich I will replace all 'na' in school column with NaN, and call the use_acronym() function defined earlier, to replace all university names to their acronym."
   ]
  },
  {
   "cell_type": "code",
   "execution_count": 16,
   "metadata": {},
   "outputs": [
    {
     "data": {
      "text/html": [
       "<div>\n",
       "<style scoped>\n",
       "    .dataframe tbody tr th:only-of-type {\n",
       "        vertical-align: middle;\n",
       "    }\n",
       "\n",
       "    .dataframe tbody tr th {\n",
       "        vertical-align: top;\n",
       "    }\n",
       "\n",
       "    .dataframe thead th {\n",
       "        text-align: right;\n",
       "    }\n",
       "</style>\n",
       "<table border=\"1\" class=\"dataframe\">\n",
       "  <thead>\n",
       "    <tr style=\"text-align: right;\">\n",
       "      <th></th>\n",
       "      <th>year</th>\n",
       "      <th>university</th>\n",
       "      <th>school</th>\n",
       "      <th>degree</th>\n",
       "      <th>employment rate</th>\n",
       "      <th>basic monthly mean</th>\n",
       "      <th>basic monthly median</th>\n",
       "      <th>gross mthly 25 percentile</th>\n",
       "      <th>gross mthly 75 percentile</th>\n",
       "    </tr>\n",
       "  </thead>\n",
       "  <tbody>\n",
       "    <tr>\n",
       "      <th>0</th>\n",
       "      <td>2013</td>\n",
       "      <td>NTU</td>\n",
       "      <td>College of Business (Nanyang Business School)</td>\n",
       "      <td>Accountancy and Business</td>\n",
       "      <td>96.1</td>\n",
       "      <td>3701</td>\n",
       "      <td>3200</td>\n",
       "      <td>2900</td>\n",
       "      <td>4000</td>\n",
       "    </tr>\n",
       "    <tr>\n",
       "      <th>1</th>\n",
       "      <td>2013</td>\n",
       "      <td>NTU</td>\n",
       "      <td>College of Business (Nanyang Business School)</td>\n",
       "      <td>Accountancy (3-yr direct Honours Programme)</td>\n",
       "      <td>95.7</td>\n",
       "      <td>2850</td>\n",
       "      <td>2700</td>\n",
       "      <td>2700</td>\n",
       "      <td>2900</td>\n",
       "    </tr>\n",
       "    <tr>\n",
       "      <th>2</th>\n",
       "      <td>2013</td>\n",
       "      <td>NTU</td>\n",
       "      <td>College of Business (Nanyang Business School)</td>\n",
       "      <td>Business (3-yr direct Honours Programme)</td>\n",
       "      <td>85.7</td>\n",
       "      <td>3053</td>\n",
       "      <td>3000</td>\n",
       "      <td>2700</td>\n",
       "      <td>3500</td>\n",
       "    </tr>\n",
       "    <tr>\n",
       "      <th>3</th>\n",
       "      <td>2013</td>\n",
       "      <td>NTU</td>\n",
       "      <td>College of Business (Nanyang Business School)</td>\n",
       "      <td>Business and Computing</td>\n",
       "      <td>87.5</td>\n",
       "      <td>3557</td>\n",
       "      <td>3400</td>\n",
       "      <td>3000</td>\n",
       "      <td>4100</td>\n",
       "    </tr>\n",
       "    <tr>\n",
       "      <th>4</th>\n",
       "      <td>2013</td>\n",
       "      <td>NTU</td>\n",
       "      <td>College of Engineering</td>\n",
       "      <td>Aerospace Engineering</td>\n",
       "      <td>95.3</td>\n",
       "      <td>3494</td>\n",
       "      <td>3500</td>\n",
       "      <td>3100</td>\n",
       "      <td>3816</td>\n",
       "    </tr>\n",
       "  </tbody>\n",
       "</table>\n",
       "</div>"
      ],
      "text/plain": [
       "   year university                                         school  \\\n",
       "0  2013        NTU  College of Business (Nanyang Business School)   \n",
       "1  2013        NTU  College of Business (Nanyang Business School)   \n",
       "2  2013        NTU  College of Business (Nanyang Business School)   \n",
       "3  2013        NTU  College of Business (Nanyang Business School)   \n",
       "4  2013        NTU                         College of Engineering   \n",
       "\n",
       "                                        degree employment rate  \\\n",
       "0                     Accountancy and Business            96.1   \n",
       "1  Accountancy (3-yr direct Honours Programme)            95.7   \n",
       "2     Business (3-yr direct Honours Programme)            85.7   \n",
       "3                       Business and Computing            87.5   \n",
       "4                        Aerospace Engineering            95.3   \n",
       "\n",
       "  basic monthly mean basic monthly median gross mthly 25 percentile  \\\n",
       "0               3701                 3200                      2900   \n",
       "1               2850                 2700                      2700   \n",
       "2               3053                 3000                      2700   \n",
       "3               3557                 3400                      3000   \n",
       "4               3494                 3500                      3100   \n",
       "\n",
       "  gross mthly 75 percentile  \n",
       "0                      4000  \n",
       "1                      2900  \n",
       "2                      3500  \n",
       "3                      4100  \n",
       "4                      3816  "
      ]
     },
     "execution_count": 16,
     "metadata": {},
     "output_type": "execute_result"
    }
   ],
   "source": [
    "# drop columns not required\n",
    "drop_col = ['employment_rate_overall', 'gross_monthly_mean', 'gross_monthly_median']\n",
    "ges_df.drop(columns=drop_col, axis=1, inplace=True)\n",
    "\n",
    "# rename column\n",
    "ges_df.rename(columns={ 'employment_rate_ft_perm': 'employment rate' }, inplace=True)\n",
    "\n",
    "# replace all underscores with space\n",
    "ges_df.columns = ges_df.columns.str.replace('_', ' ')\n",
    "\n",
    "# replace NaN with na\n",
    "ges_df['school'] = ges_df['school'].replace('na', np.NaN)\n",
    "\n",
    "# rename university names to their acronym\n",
    "ges_df = use_acronym(ges_df, 'university')\n",
    "\n",
    "ges_df.head()"
   ]
  },
  {
   "cell_type": "code",
   "execution_count": 17,
   "metadata": {},
   "outputs": [
    {
     "name": "stdout",
     "output_type": "stream",
     "text": [
      "[2015 2016 2017 2018 2019 2020 2021]\n"
     ]
    }
   ],
   "source": [
    "# drop rows not within the year 2015(inclusive) and 2021(inclusive)\n",
    "years = (ges_df['year'] >= 2015) & (ges_df['year'] <= 2021)\n",
    "ges_df = ges_df[years]\n",
    "print(ges_df['year'].unique())"
   ]
  },
  {
   "cell_type": "code",
   "execution_count": 18,
   "metadata": {},
   "outputs": [
    {
     "name": "stdout",
     "output_type": "stream",
     "text": [
      "Before drop: (927, 9)\n",
      "After drop: (652, 9)\n",
      "Expected no. of rows:  652\n"
     ]
    }
   ],
   "source": [
    "# print before and after to verify\n",
    "print('Before drop:', ges_df.shape)\n",
    "\n",
    "# drop rows where the university is not NUS, NTU or SMU.\n",
    "todrop = ges_df[~ges_df['university'].isin(['NUS', 'NTU', 'SMU'])]\n",
    "ges_df = ges_df.drop(todrop.index)\n",
    "\n",
    "print('After drop:', ges_df.shape)\n",
    "print('Expected no. of rows: ', 927-275)"
   ]
  },
  {
   "cell_type": "code",
   "execution_count": 19,
   "metadata": {},
   "outputs": [
    {
     "data": {
      "text/html": [
       "<div>\n",
       "<style scoped>\n",
       "    .dataframe tbody tr th:only-of-type {\n",
       "        vertical-align: middle;\n",
       "    }\n",
       "\n",
       "    .dataframe tbody tr th {\n",
       "        vertical-align: top;\n",
       "    }\n",
       "\n",
       "    .dataframe thead th {\n",
       "        text-align: right;\n",
       "    }\n",
       "</style>\n",
       "<table border=\"1\" class=\"dataframe\">\n",
       "  <thead>\n",
       "    <tr style=\"text-align: right;\">\n",
       "      <th></th>\n",
       "      <th>year</th>\n",
       "      <th>university</th>\n",
       "      <th>school</th>\n",
       "      <th>degree</th>\n",
       "      <th>employment rate</th>\n",
       "      <th>basic monthly mean</th>\n",
       "      <th>basic monthly median</th>\n",
       "      <th>gross mthly 25 percentile</th>\n",
       "      <th>gross mthly 75 percentile</th>\n",
       "    </tr>\n",
       "  </thead>\n",
       "  <tbody>\n",
       "    <tr>\n",
       "      <th>199</th>\n",
       "      <td>2015</td>\n",
       "      <td>NTU</td>\n",
       "      <td>College of Engineering</td>\n",
       "      <td>Aerospace Engineering and Economics **</td>\n",
       "      <td>na</td>\n",
       "      <td>na</td>\n",
       "      <td>na</td>\n",
       "      <td>na</td>\n",
       "      <td>na</td>\n",
       "    </tr>\n",
       "    <tr>\n",
       "      <th>201</th>\n",
       "      <td>2015</td>\n",
       "      <td>NTU</td>\n",
       "      <td>College of Engineering</td>\n",
       "      <td>Business and Computer Engineering **</td>\n",
       "      <td>na</td>\n",
       "      <td>na</td>\n",
       "      <td>na</td>\n",
       "      <td>na</td>\n",
       "      <td>na</td>\n",
       "    </tr>\n",
       "    <tr>\n",
       "      <th>203</th>\n",
       "      <td>2015</td>\n",
       "      <td>NTU</td>\n",
       "      <td>College of Engineering</td>\n",
       "      <td>Chemical And Biomolecular Engineering and Econ...</td>\n",
       "      <td>na</td>\n",
       "      <td>na</td>\n",
       "      <td>na</td>\n",
       "      <td>na</td>\n",
       "      <td>na</td>\n",
       "    </tr>\n",
       "    <tr>\n",
       "      <th>209</th>\n",
       "      <td>2015</td>\n",
       "      <td>NTU</td>\n",
       "      <td>College of Engineering</td>\n",
       "      <td>Environmental Engineering and Economics **</td>\n",
       "      <td>na</td>\n",
       "      <td>na</td>\n",
       "      <td>na</td>\n",
       "      <td>na</td>\n",
       "      <td>na</td>\n",
       "    </tr>\n",
       "    <tr>\n",
       "      <th>211</th>\n",
       "      <td>2015</td>\n",
       "      <td>NTU</td>\n",
       "      <td>College of Engineering</td>\n",
       "      <td>Information Engineering And Media and Economic...</td>\n",
       "      <td>na</td>\n",
       "      <td>na</td>\n",
       "      <td>na</td>\n",
       "      <td>na</td>\n",
       "      <td>na</td>\n",
       "    </tr>\n",
       "  </tbody>\n",
       "</table>\n",
       "</div>"
      ],
      "text/plain": [
       "     year university                  school  \\\n",
       "199  2015        NTU  College of Engineering   \n",
       "201  2015        NTU  College of Engineering   \n",
       "203  2015        NTU  College of Engineering   \n",
       "209  2015        NTU  College of Engineering   \n",
       "211  2015        NTU  College of Engineering   \n",
       "\n",
       "                                                degree employment rate  \\\n",
       "199             Aerospace Engineering and Economics **              na   \n",
       "201               Business and Computer Engineering **              na   \n",
       "203  Chemical And Biomolecular Engineering and Econ...              na   \n",
       "209         Environmental Engineering and Economics **              na   \n",
       "211  Information Engineering And Media and Economic...              na   \n",
       "\n",
       "    basic monthly mean basic monthly median gross mthly 25 percentile  \\\n",
       "199                 na                   na                        na   \n",
       "201                 na                   na                        na   \n",
       "203                 na                   na                        na   \n",
       "209                 na                   na                        na   \n",
       "211                 na                   na                        na   \n",
       "\n",
       "    gross mthly 75 percentile  \n",
       "199                        na  \n",
       "201                        na  \n",
       "203                        na  \n",
       "209                        na  \n",
       "211                        na  "
      ]
     },
     "execution_count": 19,
     "metadata": {},
     "output_type": "execute_result"
    }
   ],
   "source": [
    "# show rows where employment rate is 'na'\n",
    "na_rows = ges_df['employment rate'] == 'na'\n",
    "ges_df.loc[na_rows].head()"
   ]
  },
  {
   "cell_type": "markdown",
   "metadata": {},
   "source": [
    "It can be seen from the output above that if 'employment_rate_ft_perm' is 'na', the other columns will also be 'na'. Hence, I will drop those rows as they do not contain the main information required for my analysis."
   ]
  },
  {
   "cell_type": "code",
   "execution_count": 20,
   "metadata": {},
   "outputs": [
    {
     "name": "stdout",
     "output_type": "stream",
     "text": [
      "Before drop: (652, 9)\n",
      "After drop: (593, 9)\n"
     ]
    }
   ],
   "source": [
    "print('Before drop:', ges_df.shape)\n",
    "\n",
    "# drop the rows\n",
    "ges_df.drop(ges_df.loc[na_rows].index, inplace=True)\n",
    "print('After drop:', ges_df.shape)"
   ]
  },
  {
   "cell_type": "markdown",
   "metadata": {},
   "source": [
    "Now that all 'na' values have been dealt with, the next step will be to convert the dataype of each column to a suitable type such that I am able to use it as I intend to later on (e.g. perform mathematical calculations). To do this, I will attempt to convert the values in all columns into numeric datatype (int, float). I will also set the error parameter to 'ignore' so that values that are incompatible for conversion will retain their original datatype."
   ]
  },
  {
   "cell_type": "code",
   "execution_count": 21,
   "metadata": {},
   "outputs": [
    {
     "name": "stdout",
     "output_type": "stream",
     "text": [
      "<class 'pandas.core.frame.DataFrame'>\n",
      "Int64Index: 593 entries, 194 to 1108\n",
      "Data columns (total 9 columns):\n",
      " #   Column                     Non-Null Count  Dtype  \n",
      "---  ------                     --------------  -----  \n",
      " 0   year                       593 non-null    int64  \n",
      " 1   university                 593 non-null    object \n",
      " 2   school                     593 non-null    object \n",
      " 3   degree                     593 non-null    object \n",
      " 4   employment rate            593 non-null    float64\n",
      " 5   basic monthly mean         593 non-null    int64  \n",
      " 6   basic monthly median       593 non-null    int64  \n",
      " 7   gross mthly 25 percentile  593 non-null    int64  \n",
      " 8   gross mthly 75 percentile  593 non-null    int64  \n",
      "dtypes: float64(1), int64(5), object(3)\n",
      "memory usage: 46.3+ KB\n"
     ]
    }
   ],
   "source": [
    "ges_df = ges_df.apply(pd.to_numeric, errors='ignore')\n",
    "ges_df.info()"
   ]
  },
  {
   "cell_type": "markdown",
   "metadata": {},
   "source": [
    "Together with the dataset, I have also exported a .txt file containing a description of the dataset and other additional information, which can be found in the dataset folder. Based on information in this file,\n",
    "- Each SMU degree has two rows, one containing respondants who achieved 'Cum Laude and Above' only, and one overall regardless of award. I will keep the overall result and drop the other.\n",
    "- Degrees containing '^' in its name means that data is from a small sample size. I will drop these rows as it might cause inaccuracy in my analysis results. "
   ]
  },
  {
   "cell_type": "code",
   "execution_count": 22,
   "metadata": {},
   "outputs": [
    {
     "data": {
      "text/html": [
       "<div>\n",
       "<style scoped>\n",
       "    .dataframe tbody tr th:only-of-type {\n",
       "        vertical-align: middle;\n",
       "    }\n",
       "\n",
       "    .dataframe tbody tr th {\n",
       "        vertical-align: top;\n",
       "    }\n",
       "\n",
       "    .dataframe thead th {\n",
       "        text-align: right;\n",
       "    }\n",
       "</style>\n",
       "<table border=\"1\" class=\"dataframe\">\n",
       "  <thead>\n",
       "    <tr style=\"text-align: right;\">\n",
       "      <th></th>\n",
       "      <th>year</th>\n",
       "      <th>university</th>\n",
       "      <th>school</th>\n",
       "      <th>degree</th>\n",
       "      <th>employment rate</th>\n",
       "      <th>basic monthly mean</th>\n",
       "      <th>basic monthly median</th>\n",
       "      <th>gross mthly 25 percentile</th>\n",
       "      <th>gross mthly 75 percentile</th>\n",
       "    </tr>\n",
       "  </thead>\n",
       "  <tbody>\n",
       "    <tr>\n",
       "      <th>194</th>\n",
       "      <td>2015</td>\n",
       "      <td>NTU</td>\n",
       "      <td>College of Business (Nanyang Business School)</td>\n",
       "      <td>Accountancy and Business</td>\n",
       "      <td>97.3</td>\n",
       "      <td>4225</td>\n",
       "      <td>3500</td>\n",
       "      <td>3000</td>\n",
       "      <td>4850</td>\n",
       "    </tr>\n",
       "    <tr>\n",
       "      <th>195</th>\n",
       "      <td>2015</td>\n",
       "      <td>NTU</td>\n",
       "      <td>College of Business (Nanyang Business School)</td>\n",
       "      <td>Accountancy (3-yr direct Honours Programme)</td>\n",
       "      <td>96.5</td>\n",
       "      <td>3182</td>\n",
       "      <td>2850</td>\n",
       "      <td>2850</td>\n",
       "      <td>3125</td>\n",
       "    </tr>\n",
       "    <tr>\n",
       "      <th>196</th>\n",
       "      <td>2015</td>\n",
       "      <td>NTU</td>\n",
       "      <td>College of Business (Nanyang Business School)</td>\n",
       "      <td>Business (3-yr direct Honours Programme)</td>\n",
       "      <td>87.6</td>\n",
       "      <td>3343</td>\n",
       "      <td>3100</td>\n",
       "      <td>2900</td>\n",
       "      <td>3700</td>\n",
       "    </tr>\n",
       "    <tr>\n",
       "      <th>197</th>\n",
       "      <td>2015</td>\n",
       "      <td>NTU</td>\n",
       "      <td>College of Business (Nanyang Business School)</td>\n",
       "      <td>Business and Computing</td>\n",
       "      <td>100.0</td>\n",
       "      <td>4036</td>\n",
       "      <td>4184</td>\n",
       "      <td>3800</td>\n",
       "      <td>4876</td>\n",
       "    </tr>\n",
       "    <tr>\n",
       "      <th>198</th>\n",
       "      <td>2015</td>\n",
       "      <td>NTU</td>\n",
       "      <td>College of Engineering</td>\n",
       "      <td>Aerospace Engineering</td>\n",
       "      <td>86.0</td>\n",
       "      <td>3699</td>\n",
       "      <td>3650</td>\n",
       "      <td>3450</td>\n",
       "      <td>4000</td>\n",
       "    </tr>\n",
       "  </tbody>\n",
       "</table>\n",
       "</div>"
      ],
      "text/plain": [
       "     year university                                         school  \\\n",
       "194  2015        NTU  College of Business (Nanyang Business School)   \n",
       "195  2015        NTU  College of Business (Nanyang Business School)   \n",
       "196  2015        NTU  College of Business (Nanyang Business School)   \n",
       "197  2015        NTU  College of Business (Nanyang Business School)   \n",
       "198  2015        NTU                         College of Engineering   \n",
       "\n",
       "                                          degree  employment rate  \\\n",
       "194                     Accountancy and Business             97.3   \n",
       "195  Accountancy (3-yr direct Honours Programme)             96.5   \n",
       "196     Business (3-yr direct Honours Programme)             87.6   \n",
       "197                       Business and Computing            100.0   \n",
       "198                        Aerospace Engineering             86.0   \n",
       "\n",
       "     basic monthly mean  basic monthly median  gross mthly 25 percentile  \\\n",
       "194                4225                  3500                       3000   \n",
       "195                3182                  2850                       2850   \n",
       "196                3343                  3100                       2900   \n",
       "197                4036                  4184                       3800   \n",
       "198                3699                  3650                       3450   \n",
       "\n",
       "     gross mthly 75 percentile  \n",
       "194                       4850  \n",
       "195                       3125  \n",
       "196                       3700  \n",
       "197                       4876  \n",
       "198                       4000  "
      ]
     },
     "execution_count": 22,
     "metadata": {},
     "output_type": "execute_result"
    }
   ],
   "source": [
    "# drop rows with '^' and '*'\n",
    "ges_df = ges_df.drop(ges_df[ges_df['degree'].str.contains('\\^')].index)\n",
    "ges_df = ges_df.drop(ges_df[ges_df['degree'].str.contains('Cum Laude and above')].index)\n",
    "ges_df.head()"
   ]
  },
  {
   "cell_type": "markdown",
   "metadata": {},
   "source": [
    "# Exploratory data analysis"
   ]
  },
  {
   "cell_type": "markdown",
   "metadata": {},
   "source": [
    "## Determine Ranking Baseline\n",
    "\n",
    "Before getting to my first hypothesis, I will first have to determine a ranking baseline by comparing the ranking results of all six universities in QS ranking and THE ranking. This ranking baseline will be the ranking I will use to test both my hypothesis later on. "
   ]
  },
  {
   "cell_type": "markdown",
   "metadata": {},
   "source": [
    "In order to easily make comparison, a function is defined to add a new national rank column that is derived from the world ranking of each university for each unique year. This function takes in a dataframe that should already be arranged by year followed by world rank in ascending order, and the desired column name for the new column."
   ]
  },
  {
   "cell_type": "code",
   "execution_count": 23,
   "metadata": {},
   "outputs": [],
   "source": [
    "# function to derive \"National rank\" column\n",
    "def get_nat_rank(df):\n",
    "    rankList = []\n",
    "    for year in df['Year'].unique():\n",
    "        num = 1\n",
    "        cond = df[df['Year'] == year]['University']\n",
    "        \n",
    "        for uni in cond:\n",
    "            rankList.append(num)\n",
    "            num += 1\n",
    "\n",
    "    df['National Rank'] = rankList\n",
    "    return df   "
   ]
  },
  {
   "cell_type": "code",
   "execution_count": 24,
   "metadata": {},
   "outputs": [
    {
     "data": {
      "text/html": [
       "<div>\n",
       "<style scoped>\n",
       "    .dataframe tbody tr th:only-of-type {\n",
       "        vertical-align: middle;\n",
       "    }\n",
       "\n",
       "    .dataframe tbody tr th {\n",
       "        vertical-align: top;\n",
       "    }\n",
       "\n",
       "    .dataframe thead th {\n",
       "        text-align: right;\n",
       "    }\n",
       "</style>\n",
       "<table border=\"1\" class=\"dataframe\">\n",
       "  <thead>\n",
       "    <tr style=\"text-align: right;\">\n",
       "      <th></th>\n",
       "      <th>Year</th>\n",
       "      <th>University</th>\n",
       "      <th>Rank</th>\n",
       "      <th>National Rank</th>\n",
       "      <th>Ranking System</th>\n",
       "    </tr>\n",
       "  </thead>\n",
       "  <tbody>\n",
       "    <tr>\n",
       "      <th>18</th>\n",
       "      <td>2015</td>\n",
       "      <td>NUS</td>\n",
       "      <td>22</td>\n",
       "      <td>1</td>\n",
       "      <td>QS</td>\n",
       "    </tr>\n",
       "    <tr>\n",
       "      <th>28</th>\n",
       "      <td>2015</td>\n",
       "      <td>NTU</td>\n",
       "      <td>39</td>\n",
       "      <td>2</td>\n",
       "      <td>QS</td>\n",
       "    </tr>\n",
       "    <tr>\n",
       "      <th>10</th>\n",
       "      <td>2016</td>\n",
       "      <td>NUS</td>\n",
       "      <td>12</td>\n",
       "      <td>1</td>\n",
       "      <td>QS</td>\n",
       "    </tr>\n",
       "    <tr>\n",
       "      <th>13</th>\n",
       "      <td>2016</td>\n",
       "      <td>NTU</td>\n",
       "      <td>13</td>\n",
       "      <td>2</td>\n",
       "      <td>QS</td>\n",
       "    </tr>\n",
       "    <tr>\n",
       "      <th>9</th>\n",
       "      <td>2017</td>\n",
       "      <td>NUS</td>\n",
       "      <td>12</td>\n",
       "      <td>1</td>\n",
       "      <td>QS</td>\n",
       "    </tr>\n",
       "  </tbody>\n",
       "</table>\n",
       "</div>"
      ],
      "text/plain": [
       "    Year University Rank  National Rank Ranking System\n",
       "18  2015        NUS  22               1             QS\n",
       "28  2015        NTU  39               2             QS\n",
       "10  2016        NUS  12               1             QS\n",
       "13  2016        NTU  13               2             QS\n",
       "9   2017        NUS  12               1             QS"
      ]
     },
     "metadata": {},
     "output_type": "display_data"
    },
    {
     "data": {
      "text/html": [
       "<div>\n",
       "<style scoped>\n",
       "    .dataframe tbody tr th:only-of-type {\n",
       "        vertical-align: middle;\n",
       "    }\n",
       "\n",
       "    .dataframe tbody tr th {\n",
       "        vertical-align: top;\n",
       "    }\n",
       "\n",
       "    .dataframe thead th {\n",
       "        text-align: right;\n",
       "    }\n",
       "</style>\n",
       "<table border=\"1\" class=\"dataframe\">\n",
       "  <thead>\n",
       "    <tr style=\"text-align: right;\">\n",
       "      <th></th>\n",
       "      <th>Year</th>\n",
       "      <th>University</th>\n",
       "      <th>Rank</th>\n",
       "      <th>National Rank</th>\n",
       "      <th>Ranking System</th>\n",
       "    </tr>\n",
       "  </thead>\n",
       "  <tbody>\n",
       "    <tr>\n",
       "      <th>7</th>\n",
       "      <td>2015</td>\n",
       "      <td>NUS</td>\n",
       "      <td>25</td>\n",
       "      <td>1</td>\n",
       "      <td>THE</td>\n",
       "    </tr>\n",
       "    <tr>\n",
       "      <th>21</th>\n",
       "      <td>2015</td>\n",
       "      <td>NTU</td>\n",
       "      <td>61</td>\n",
       "      <td>2</td>\n",
       "      <td>THE</td>\n",
       "    </tr>\n",
       "    <tr>\n",
       "      <th>8</th>\n",
       "      <td>2016</td>\n",
       "      <td>NUS</td>\n",
       "      <td>26</td>\n",
       "      <td>1</td>\n",
       "      <td>THE</td>\n",
       "    </tr>\n",
       "    <tr>\n",
       "      <th>20</th>\n",
       "      <td>2016</td>\n",
       "      <td>NTU</td>\n",
       "      <td>55</td>\n",
       "      <td>2</td>\n",
       "      <td>THE</td>\n",
       "    </tr>\n",
       "    <tr>\n",
       "      <th>4</th>\n",
       "      <td>2017</td>\n",
       "      <td>NUS</td>\n",
       "      <td>24</td>\n",
       "      <td>1</td>\n",
       "      <td>THE</td>\n",
       "    </tr>\n",
       "  </tbody>\n",
       "</table>\n",
       "</div>"
      ],
      "text/plain": [
       "    Year University Rank  National Rank Ranking System\n",
       "7   2015        NUS  25               1            THE\n",
       "21  2015        NTU  61               2            THE\n",
       "8   2016        NUS  26               1            THE\n",
       "20  2016        NTU  55               2            THE\n",
       "4   2017        NUS  24               1            THE"
      ]
     },
     "metadata": {},
     "output_type": "display_data"
    }
   ],
   "source": [
    "# use function above to add 'national rank' column\n",
    "qs_df = get_nat_rank(qs_df)\n",
    "qs_df['Ranking System'] = 'QS'\n",
    "\n",
    "the_df = get_nat_rank(the_df)\n",
    "the_df['Ranking System'] = 'THE'\n",
    "\n",
    "display(qs_df.head())\n",
    "display(the_df.head())"
   ]
  },
  {
   "cell_type": "code",
   "execution_count": 25,
   "metadata": {},
   "outputs": [
    {
     "data": {
      "text/html": [
       "<div>\n",
       "<style scoped>\n",
       "    .dataframe tbody tr th:only-of-type {\n",
       "        vertical-align: middle;\n",
       "    }\n",
       "\n",
       "    .dataframe tbody tr th {\n",
       "        vertical-align: top;\n",
       "    }\n",
       "\n",
       "    .dataframe thead th {\n",
       "        text-align: right;\n",
       "    }\n",
       "</style>\n",
       "<table border=\"1\" class=\"dataframe\">\n",
       "  <thead>\n",
       "    <tr style=\"text-align: right;\">\n",
       "      <th>University</th>\n",
       "      <th>NTU</th>\n",
       "      <th>NUS</th>\n",
       "      <th>SMU</th>\n",
       "    </tr>\n",
       "    <tr>\n",
       "      <th>Year</th>\n",
       "      <th></th>\n",
       "      <th></th>\n",
       "      <th></th>\n",
       "    </tr>\n",
       "  </thead>\n",
       "  <tbody>\n",
       "    <tr>\n",
       "      <th>2015</th>\n",
       "      <td>1</td>\n",
       "      <td>1</td>\n",
       "      <td>0</td>\n",
       "    </tr>\n",
       "    <tr>\n",
       "      <th>2016</th>\n",
       "      <td>1</td>\n",
       "      <td>1</td>\n",
       "      <td>0</td>\n",
       "    </tr>\n",
       "    <tr>\n",
       "      <th>2017</th>\n",
       "      <td>1</td>\n",
       "      <td>1</td>\n",
       "      <td>1</td>\n",
       "    </tr>\n",
       "    <tr>\n",
       "      <th>2018</th>\n",
       "      <td>1</td>\n",
       "      <td>1</td>\n",
       "      <td>1</td>\n",
       "    </tr>\n",
       "    <tr>\n",
       "      <th>2019</th>\n",
       "      <td>1</td>\n",
       "      <td>1</td>\n",
       "      <td>1</td>\n",
       "    </tr>\n",
       "    <tr>\n",
       "      <th>2020</th>\n",
       "      <td>1</td>\n",
       "      <td>1</td>\n",
       "      <td>1</td>\n",
       "    </tr>\n",
       "    <tr>\n",
       "      <th>2021</th>\n",
       "      <td>1</td>\n",
       "      <td>1</td>\n",
       "      <td>1</td>\n",
       "    </tr>\n",
       "  </tbody>\n",
       "</table>\n",
       "</div>"
      ],
      "text/plain": [
       "University  NTU  NUS  SMU\n",
       "Year                     \n",
       "2015          1    1    0\n",
       "2016          1    1    0\n",
       "2017          1    1    1\n",
       "2018          1    1    1\n",
       "2019          1    1    1\n",
       "2020          1    1    1\n",
       "2021          1    1    1"
      ]
     },
     "metadata": {},
     "output_type": "display_data"
    },
    {
     "data": {
      "text/html": [
       "<div>\n",
       "<style scoped>\n",
       "    .dataframe tbody tr th:only-of-type {\n",
       "        vertical-align: middle;\n",
       "    }\n",
       "\n",
       "    .dataframe tbody tr th {\n",
       "        vertical-align: top;\n",
       "    }\n",
       "\n",
       "    .dataframe thead th {\n",
       "        text-align: right;\n",
       "    }\n",
       "</style>\n",
       "<table border=\"1\" class=\"dataframe\">\n",
       "  <thead>\n",
       "    <tr style=\"text-align: right;\">\n",
       "      <th>University</th>\n",
       "      <th>NTU</th>\n",
       "      <th>NUS</th>\n",
       "    </tr>\n",
       "    <tr>\n",
       "      <th>Year</th>\n",
       "      <th></th>\n",
       "      <th></th>\n",
       "    </tr>\n",
       "  </thead>\n",
       "  <tbody>\n",
       "    <tr>\n",
       "      <th>2015</th>\n",
       "      <td>1</td>\n",
       "      <td>1</td>\n",
       "    </tr>\n",
       "    <tr>\n",
       "      <th>2016</th>\n",
       "      <td>1</td>\n",
       "      <td>1</td>\n",
       "    </tr>\n",
       "    <tr>\n",
       "      <th>2017</th>\n",
       "      <td>1</td>\n",
       "      <td>1</td>\n",
       "    </tr>\n",
       "    <tr>\n",
       "      <th>2018</th>\n",
       "      <td>1</td>\n",
       "      <td>1</td>\n",
       "    </tr>\n",
       "    <tr>\n",
       "      <th>2019</th>\n",
       "      <td>1</td>\n",
       "      <td>1</td>\n",
       "    </tr>\n",
       "    <tr>\n",
       "      <th>2020</th>\n",
       "      <td>1</td>\n",
       "      <td>1</td>\n",
       "    </tr>\n",
       "    <tr>\n",
       "      <th>2021</th>\n",
       "      <td>1</td>\n",
       "      <td>1</td>\n",
       "    </tr>\n",
       "  </tbody>\n",
       "</table>\n",
       "</div>"
      ],
      "text/plain": [
       "University  NTU  NUS\n",
       "Year                \n",
       "2015          1    1\n",
       "2016          1    1\n",
       "2017          1    1\n",
       "2018          1    1\n",
       "2019          1    1\n",
       "2020          1    1\n",
       "2021          1    1"
      ]
     },
     "metadata": {},
     "output_type": "display_data"
    }
   ],
   "source": [
    "# display frequency table to see which universities are ranked each year\n",
    "display(pd.crosstab(qs_df['Year'], qs_df['University']))\n",
    "display(pd.crosstab(the_df['Year'], the_df['University']))"
   ]
  },
  {
   "cell_type": "markdown",
   "metadata": {},
   "source": [
    "Based on the frequency table above:\n",
    "- NTU and NUS are ranked throughout 2015 to 2021  for both QS and THE\n",
    "- SMU is ranked from 2017 to 2021 in QS, and not ranked on THE"
   ]
  },
  {
   "cell_type": "markdown",
   "metadata": {},
   "source": [
    "In order to better visialise and compare the national rankings, I will create a new dataframe by concatenating 'qs_df2' and 'the_df2', before sorting the new dataframe by Year followed by National Rank."
   ]
  },
  {
   "cell_type": "code",
   "execution_count": 26,
   "metadata": {},
   "outputs": [
    {
     "data": {
      "text/html": [
       "<div>\n",
       "<style scoped>\n",
       "    .dataframe tbody tr th:only-of-type {\n",
       "        vertical-align: middle;\n",
       "    }\n",
       "\n",
       "    .dataframe tbody tr th {\n",
       "        vertical-align: top;\n",
       "    }\n",
       "\n",
       "    .dataframe thead th {\n",
       "        text-align: right;\n",
       "    }\n",
       "</style>\n",
       "<table border=\"1\" class=\"dataframe\">\n",
       "  <thead>\n",
       "    <tr style=\"text-align: right;\">\n",
       "      <th></th>\n",
       "      <th>Year</th>\n",
       "      <th>University</th>\n",
       "      <th>National Rank</th>\n",
       "      <th>Ranking System</th>\n",
       "    </tr>\n",
       "  </thead>\n",
       "  <tbody>\n",
       "    <tr>\n",
       "      <th>18</th>\n",
       "      <td>2015</td>\n",
       "      <td>NUS</td>\n",
       "      <td>1</td>\n",
       "      <td>QS</td>\n",
       "    </tr>\n",
       "    <tr>\n",
       "      <th>7</th>\n",
       "      <td>2015</td>\n",
       "      <td>NUS</td>\n",
       "      <td>1</td>\n",
       "      <td>THE</td>\n",
       "    </tr>\n",
       "    <tr>\n",
       "      <th>28</th>\n",
       "      <td>2015</td>\n",
       "      <td>NTU</td>\n",
       "      <td>2</td>\n",
       "      <td>QS</td>\n",
       "    </tr>\n",
       "    <tr>\n",
       "      <th>21</th>\n",
       "      <td>2015</td>\n",
       "      <td>NTU</td>\n",
       "      <td>2</td>\n",
       "      <td>THE</td>\n",
       "    </tr>\n",
       "    <tr>\n",
       "      <th>10</th>\n",
       "      <td>2016</td>\n",
       "      <td>NUS</td>\n",
       "      <td>1</td>\n",
       "      <td>QS</td>\n",
       "    </tr>\n",
       "  </tbody>\n",
       "</table>\n",
       "</div>"
      ],
      "text/plain": [
       "    Year University  National Rank Ranking System\n",
       "18  2015        NUS              1             QS\n",
       "7   2015        NUS              1            THE\n",
       "28  2015        NTU              2             QS\n",
       "21  2015        NTU              2            THE\n",
       "10  2016        NUS              1             QS"
      ]
     },
     "execution_count": 26,
     "metadata": {},
     "output_type": "execute_result"
    }
   ],
   "source": [
    "# combine both rankings into one dataframe and sort\n",
    "qs_df2 = qs_df.drop(['Rank'], axis=1)\n",
    "the_df2 = the_df.drop(['Rank'], axis=1)\n",
    "comb_df = pd.concat([qs_df2, the_df2])\n",
    "comb_df.sort_values(by=['Year', 'National Rank'], ascending=True, inplace=True)\n",
    "comb_df.head()"
   ]
  },
  {
   "cell_type": "markdown",
   "metadata": {},
   "source": [
    "<span style=\"font-size: 145%;font-weight:600\">Plot graph to cross-compare rankings</span><br>\n",
    "Using the new dataframe created, I used seaborn catplot function to plot three bar graphs. Each plot represents the national ranking of QS and THE, for each unique university across the years 2015 to 2021."
   ]
  },
  {
   "cell_type": "code",
   "execution_count": 27,
   "metadata": {},
   "outputs": [
    {
     "data": {
      "image/png": "[encoded data removed]",
      "text/plain": [
       "<Figure size 1176.17x360 with 3 Axes>"
      ]
     },
     "metadata": {},
     "output_type": "display_data"
    }
   ],
   "source": [
    "# plot bar graph\n",
    "sns.set_theme(style=\"whitegrid\")\n",
    "ax = sns.catplot(data=comb_df, kind=\"bar\", palette=\"Set2\",\n",
    "                 x=\"Year\", y=\"National Rank\", \n",
    "                 hue=\"Ranking System\", col=\"University\")\n",
    "\n",
    "ax.set(ylim=(0, 3))\n",
    "\n",
    "# label x and y-axis\n",
    "ax.set(xlabel=\"Year\")\n",
    "ax.set(ylabel=\"National Rank\");"
   ]
  },
  {
   "cell_type": "markdown",
   "metadata": {},
   "source": [
    "<span style=\"font-size: 145%;font-weight:600\">Final Ranking Baseline</span><br>\n",
    "The following can be observed form the output above:\n",
    "- NUS ranked first nationally (both QS and THE rank) in most years except 2018 and 2020.\n",
    "- NTU ranked second nationally (both QS and THE rank) in most years except 2018 and 2020.\n",
    "- NUS ranked second nationally in QS, and first in THE in the years 2018 and 2020.\n",
    "- NTU ranked first nationally in QS, and second in THE in the years 2018 and 2020.\n",
    "- SMU ranked third nationally from 2017 to 2021 based on QS rank.\n",
    "\n",
    "In order to resolve the discrepancy in results for NUS and NTU in 2018 and 2020, I will look at one other ranking system, Academic Ranking of World Universities (ARWU). Based on ARWU ranking results, NUS ranked first regionally while NTU ranked second in both 2018 **[8]** and 2020 **[9]**. This aligns with the results of THE ranking based on the graph.\n",
    "\n",
    "As such, the ranking baseline that will be used to test my hypothesis will be:\n",
    "1. NUS\n",
    "2. NTU\n",
    "3. SMU"
   ]
  },
  {
   "cell_type": "markdown",
   "metadata": {},
   "source": [
    "## Analysis (Hypothesis 1)\n",
    "With the ranking baseline determined, I will now test my first hypothesis.<br>\n",
    "Hypothesis 1: There is a correlation between university rankings and employment outcome."
   ]
  },
  {
   "cell_type": "markdown",
   "metadata": {},
   "source": [
    "### Employment rate\n",
    "Plotting of a horizontal bar graph to show the average overall employment rate of each university, for each year. "
   ]
  },
  {
   "cell_type": "code",
   "execution_count": 28,
   "metadata": {},
   "outputs": [
    {
     "data": {
      "image/png": "[encoded data removed]",
      "text/plain": [
       "<Figure size 1440x432 with 3 Axes>"
      ]
     },
     "metadata": {},
     "output_type": "display_data"
    }
   ],
   "source": [
    "fig, ax = plt.subplots(ncols=3, figsize=(20,6), sharey=True)\n",
    "\n",
    "# set color iterator\n",
    "palette = itertools.cycle(sns.color_palette(palette='tab10'))\n",
    "\n",
    "# loop through each uni and plot graph \n",
    "loop = 0\n",
    "\n",
    "# plot graph\n",
    "for uni in ges_df['university'].unique():\n",
    "    # group by year and find the mean of employment rate\n",
    "    uni_df = ges_df[ges_df['university'] == uni]\n",
    "    uni_avg = uni_df.groupby('year').mean()['employment rate'].sort_values()\n",
    "    \n",
    "    # plot horizontal bar graph\n",
    "    bar = ax[loop].barh(uni_avg.index, uni_avg, color=next(palette), edgecolor='black')\n",
    "    \n",
    "    # set label and title\n",
    "    ax[loop].bar_label(bar, fmt='%.0f%%', padding=4)\n",
    "    ax[loop].set_title(uni)\n",
    "            \n",
    "    loop+=1\n",
    "\n",
    "# set main figure title\n",
    "fig.suptitle('Average employment rate of each university(%)')\n",
    "plt.subplots_adjust(wspace=0.08)\n",
    "plt.show()"
   ]
  },
  {
   "cell_type": "markdown",
   "metadata": {},
   "source": [
    "Based on the linegraph above, it can be observed that throughout the years 2015 to 2021, SMU showed the highest number of average employment rate, followed by NUS, and NTU. It can also be seen that the employment rate of all three universitie are generally between the range of 70% to 90%."
   ]
  },
  {
   "cell_type": "markdown",
   "metadata": {},
   "source": [
    "Plotting of linegraph to better show the difference in employment rate over the years"
   ]
  },
  {
   "cell_type": "code",
   "execution_count": 29,
   "metadata": {},
   "outputs": [
    {
     "data": {
      "image/png": "[encoded data removed]",
      "text/plain": [
       "<Figure size 432x288 with 1 Axes>"
      ]
     },
     "metadata": {},
     "output_type": "display_data"
    }
   ],
   "source": [
    "# plot linegraph\n",
    "sns.lineplot(data=ges_df, x='year', y='employment rate', \n",
    "             hue='university', marker='o');"
   ]
  },
  {
   "cell_type": "markdown",
   "metadata": {},
   "source": [
    "Based on the linegraph above, it can be seen clearly that throughout the years 2015 to 2021, SMU showed the highest number of average employment rate, followed by NUS, and NTU. It can also been seen that all three universities show a similar pattern where in 2020 there is a large dip."
   ]
  },
  {
   "cell_type": "code",
   "execution_count": 30,
   "metadata": {},
   "outputs": [
    {
     "name": "stdout",
     "output_type": "stream",
     "text": [
      "2015 - NUS: 36  | NTU: 33  | SMU: 6\n",
      "2016 - NUS: 34  | NTU: 34  | SMU: 6\n",
      "2017 - NUS: 37  | NTU: 35  | SMU: 6\n",
      "2018 - NUS: 31  | NTU: 34  | SMU: 6\n",
      "2019 - NUS: 31  | NTU: 34  | SMU: 6\n",
      "2020 - NUS: 31  | NTU: 36  | SMU: 6\n",
      "2021 - NUS: 33  | NTU: 34  | SMU: 6\n"
     ]
    }
   ],
   "source": [
    "# print number of employment rate records available for each uni in each year\n",
    "ntu_df = ges_df[ges_df['university'] == 'NTU']\n",
    "nus_df = ges_df[ges_df['university'] == 'NUS']\n",
    "smu_df = ges_df[ges_df['university'] == 'SMU']\n",
    "\n",
    "for year in ges_df['year'].unique():\n",
    "    nus = nus_df[nus_df['year'] == year]['employment rate']\n",
    "    ntu = ntu_df[ntu_df['year'] == year]['employment rate']\n",
    "    smu = smu_df[smu_df['year'] == year]['employment rate']\n",
    "    print(year, \n",
    "          '- NUS:', nus.count(), \n",
    "          ' | NTU:', ntu.count(), \n",
    "          ' | SMU:', smu.count())"
   ]
  },
  {
   "cell_type": "markdown",
   "metadata": {},
   "source": [
    "<span style=\"font-size: 145%;font-weight:600\">Observation (Based on employment rate)</span><br>\n",
    "To summarise, in both the line and bar graphs above, SMU showed the highest number of average employment rate, followed by NUS, and NTU across all years. Relating back to the ranking baseline determined earlier, SMU was ranked third, yet achieved the highest average employment rate. On the other hand, NUS and NTU which were ranked first and second respectively has the second and third highest employment rate respectively.\n",
    "\n",
    "However, in both graphs, the average employment rate was calculated by taking the mean value of the 'employment rate' column after grouping by year and university. This means that the number of records used in the calculation is an important aspect that would affect the accuracy of the results. \n",
    "\n",
    "Referring at the output of the cell directly above, it can be seen that throughout years 2015 to 2021, NTU and NUS have shown a similar number of records ranging from 31 to 36 that is available, while SMU has a significantly lower number of 6 records. (note: 6 records means that overall employment rate of only 6 different degrees in SMU are available for each year). As such, the mean employment rate calculated and used to plot the graphs above might not be as accurate. Hence, from this point onwards, I will be excluding SMU from my analysis. I will only compare between NUS and NTU since both show a consistent number of records available.\n",
    "\n",
    "<span style=\"font-size: 145%;font-weight:600\">Conclusion</span><br>\n",
    "Based on the overall employment rate across the years, it can be observed that fresh graduates from the higher ranked university(NUS) has indeed had a higher employment rate throughout the years 2015 to 2021, as compared to NTU which is ranked lower and showed a lower employment rate. This supports my first hypothesis that there is indeed a correlation between ranking and employment outcome."
   ]
  },
  {
   "cell_type": "code",
   "execution_count": 31,
   "metadata": {},
   "outputs": [
    {
     "data": {
      "text/plain": [
       "array(['NTU', 'NUS'], dtype=object)"
      ]
     },
     "execution_count": 31,
     "metadata": {},
     "output_type": "execute_result"
    }
   ],
   "source": [
    "# update dataframe to remove SMU\n",
    "ges_df = ges_df[ges_df['university'] != 'SMU']\n",
    "ges_df['university'].unique()"
   ]
  },
  {
   "cell_type": "markdown",
   "metadata": {},
   "source": [
    "### Basic monthly median salary\n",
    "\n",
    "Moving on, I will now plotting a scatter plot to show the top 20 degrees of each university with the highest basic monthly median salary for each year from 2015 to 2021."
   ]
  },
  {
   "cell_type": "code",
   "execution_count": 32,
   "metadata": {},
   "outputs": [
    {
     "data": {
      "image/png": "[encoded data removed]",
      "text/plain": [
       "<Figure size 432x216 with 2 Axes>"
      ]
     },
     "metadata": {},
     "output_type": "display_data"
    }
   ],
   "source": [
    "# group by year, university and get the top 20 monthly median\n",
    "scatter_df = ges_df.sort_values(['year', 'basic monthly median'], \n",
    "                                 ascending=[True, False]).groupby(['year', 'university']).head(20)\n",
    "\n",
    "# plot scatter\n",
    "g = sns.FacetGrid(scatter_df, col='university', hue='year')\n",
    "g.map(sns.scatterplot, 'year', 'basic monthly median')\n",
    "\n",
    "g.fig.subplots_adjust(top=.8)\n",
    "g.fig.suptitle('Top 20 basic monthly median salary of each university across the years')\n",
    "plt.show()"
   ]
  },
  {
   "cell_type": "markdown",
   "metadata": {},
   "source": [
    "Based on the scatter plot above, fresh graduates from NUS generally showed a higher basic monthly median salary as compared to fresh graduated from NTU. To take a closer look at the difference, I will plot several bar graph to compare the top 3 degrees with the higest basic monthly median salary for each university from 2015 to 2021."
   ]
  },
  {
   "cell_type": "code",
   "execution_count": 33,
   "metadata": {},
   "outputs": [
    {
     "data": {
      "image/png": "[encoded data removed]",
      "text/plain": [
       "<Figure size 1008x360 with 7 Axes>"
      ]
     },
     "metadata": {},
     "output_type": "display_data"
    }
   ],
   "source": [
    "g = sns.FacetGrid(ges_df, col='year', height=5, aspect=.4)\n",
    "g.map(sns.barplot, 'university', 'basic monthly median', palette='rocket', order=['NTU', 'NUS'])\n",
    "g.fig.subplots_adjust(top=0.8)\n",
    "g.fig.suptitle('Average monthly median salary');"
   ]
  },
  {
   "cell_type": "markdown",
   "metadata": {},
   "source": [
    "<span style=\"font-size: 145%;font-weight:600\">Observation (Based on monthly median salary)</span><br>\n",
    "Based on both the scatter and bar charts above, it can be observed that fresh graduates from the higher ranking university, NUS, showed higher basic monthly median salary across all years from 2015 to 2021 as compared to fresh graduates from NTU. This supports my first hypothesis that there is indeed a correlation between university ranking and employment outcome such that fresh graduates from a higher ranked university earns a higher basic monthly median salary. "
   ]
  },
  {
   "cell_type": "markdown",
   "metadata": {},
   "source": [
    "## Analysis (Hypothesis 2)\n",
    "With the first hypothesis shown to be true, I will now test my second hypothesis.<br>\n",
    "Hypothesis 2: It is true that university rankings no longer affects employment outcomes of local university fresh graduates as much as it did years ago."
   ]
  },
  {
   "cell_type": "markdown",
   "metadata": {},
   "source": [
    "### Change in difference in employment rate"
   ]
  },
  {
   "cell_type": "markdown",
   "metadata": {},
   "source": [
    "Calculate and plot the difference in average employment rate between NUS and NTU across the years, so that it can be used to visualise the trend."
   ]
  },
  {
   "cell_type": "code",
   "execution_count": 34,
   "metadata": {},
   "outputs": [
    {
     "data": {
      "text/plain": [
       "year\n",
       "2015    4.265909\n",
       "2016    3.505882\n",
       "2017    5.855521\n",
       "2018    1.324194\n",
       "2019    4.701233\n",
       "2020    4.571057\n",
       "2021    6.746791\n",
       "Name: employment rate, dtype: float64"
      ]
     },
     "execution_count": 34,
     "metadata": {},
     "output_type": "execute_result"
    }
   ],
   "source": [
    "# calculate the difference in employment rate each year\n",
    "empRateDiff = (nus_df.groupby(['year'])['employment rate'].mean() \n",
    "- ntu_df.groupby(['year'])['employment rate'].mean())\n",
    "empRateDiff"
   ]
  },
  {
   "cell_type": "code",
   "execution_count": 35,
   "metadata": {},
   "outputs": [
    {
     "data": {
      "image/png": "[encoded data removed]",
      "text/plain": [
       "<Figure size 432x288 with 1 Axes>"
      ]
     },
     "metadata": {},
     "output_type": "display_data"
    }
   ],
   "source": [
    "# plot the difference\n",
    "ax = empRateDiff.plot(x='year', title='Difference in average employment rate')"
   ]
  },
  {
   "cell_type": "markdown",
   "metadata": {},
   "source": [
    "<span style=\"font-size: 145%;font-weight:600\">Observation (based on difference in overall employment rate)</span><br>\n",
    "Based on the line graph above, it is difficult to say whether there was an increase or decrese in the difference in employment rate, since the lines are staggered which means there is no consistency in the data. However, it can be seen that the difference shown in the years after 2019 have generally been higher than in yeat 2015. This does not support my hypothesis since there is an even bigger difference in employment rate between NUS and NTU in recent years, as compared to in 2015."
   ]
  },
  {
   "cell_type": "markdown",
   "metadata": {},
   "source": [
    "### Change in difference in monthly median salary"
   ]
  },
  {
   "cell_type": "markdown",
   "metadata": {},
   "source": [
    "Calculate and plot the difference in basic monthly median between NUS and NTU across the years, so that it can be used to visualise the trend."
   ]
  },
  {
   "cell_type": "code",
   "execution_count": 36,
   "metadata": {},
   "outputs": [
    {
     "data": {
      "text/plain": [
       "year\n",
       "2015    235.116162\n",
       "2016    160.588235\n",
       "2017    132.429344\n",
       "2018    116.151803\n",
       "2019    245.303605\n",
       "2020    169.716846\n",
       "2021    193.836007\n",
       "Name: basic monthly median, dtype: float64"
      ]
     },
     "execution_count": 36,
     "metadata": {},
     "output_type": "execute_result"
    }
   ],
   "source": [
    "# calculate the difference in basic monthly median each year\n",
    "medianDiff = (nus_df.groupby(['year'])['basic monthly median'].mean() \n",
    "- ntu_df.groupby(['year'])['basic monthly median'].mean())\n",
    "medianDiff"
   ]
  },
  {
   "cell_type": "code",
   "execution_count": 37,
   "metadata": {},
   "outputs": [
    {
     "data": {
      "image/png": "[encoded data removed]",
      "text/plain": [
       "<Figure size 432x288 with 1 Axes>"
      ]
     },
     "metadata": {},
     "output_type": "display_data"
    }
   ],
   "source": [
    "# plot the difference\n",
    "ax = medianDiff.plot(x='year', title='Difference in average basic monthly median')"
   ]
  },
  {
   "cell_type": "markdown",
   "metadata": {},
   "source": [
    "<span style=\"font-size: 145%;font-weight:600\">Observation(Based on change in basic monthly median)</span><br>\n",
    "Similar to the previous line graph, this like graph also does not show a consistent trend. However, it can be observed that from the years 2016 to 2018, and 2020 to 2021, the difference was lower than in year 2015. This support my hypothesis since it means that the fresh graduates from NUS and NTU are starting to earn a basic monthly median salary more similar to each other even as the ranking of the respective university remains the same. "
   ]
  },
  {
   "cell_type": "markdown",
   "metadata": {},
   "source": [
    "## Conclusion"
   ]
  },
  {
   "cell_type": "markdown",
   "metadata": {},
   "source": [
    "To summarise the observation of my analysis, I first found a ranking baseline based by comparing between two ranking systems, and also cross cheked with another due to descrepancies in ranking between the first two. The final ranking baseline was Rank 1: NUS, Rank 2: NTU, Rank 3: SMU. \n",
    "\n",
    "Next, I tested my first hypothesis (that there is a correlation between university rankings and employment outcome) which according to my analysis showed to be true. Graduates from the higher ranked university, NUS, showed a higher employment rate and monthly median salary across all years from 2015 to 2021. As compared to graduates from NTU. It was also found that there was a lack of SMU data, therefore, SMU was excluded from the analysis.\n",
    "\n",
    "The second hypothesis (that university rankings no longer affects employment outcomes of local university fresh graduates as much as it did years ago) however turned out to be inconclusive as there was no concrete trend shown when observing the change in the difference in employment rate and monthly median salary between NUS and NTU for each year. "
   ]
  },
  {
   "cell_type": "markdown",
   "metadata": {},
   "source": [
    "## Ideas for further development\n",
    "\n",
    "This analysis can be futher improved by comparing between even more universities instead of just basing the scope on Singapore's local universities. By broaderning the scope, more interesting analysis can be made by comparing between different countries and looking at the difference shown by each country or region."
   ]
  },
  {
   "cell_type": "markdown",
   "metadata": {
    "tags": []
   },
   "source": [
    "# References\n",
    "\n",
    "**Data Sources**\n",
    "\n",
    "- https://www.universityrankings.ch/results?ranking=QS&region=World&year=all+years&q=Singapore\n",
    "\n",
    "- https://www.universityrankings.ch/results?ranking=Times&region=World&year=all+years&q=Singapore\n",
    "\n",
    "- https://data.gov.sg/dataset/graduate-employment-survey-ntu-nus-sit-smu-suss-sutd\n",
    "\n",
    "**Ranking Systems**\n",
    "\n",
    "[1] THE - Times Higher Education. “World University Rankings.” Times Higher Education (THE), 29-Nov-2022. [Online]. Available: https://www.timeshighereducation.com/world-university-rankings.\n",
    "\n",
    "[2] QS Quacquarelli Symonds Limited. “QS universities rankings.” Top Universities. [Online]. Available: https://www.topuniversities.com/university-rankings.\n",
    "\n",
    "[3] ShanghaiRanking Consultancy. “Academic Ranking of World universities.” ShanghaiRanking. [Online]. Available: http://www.shanghairanking.com/.\n",
    "\n",
    "[4] QS Quacquarelli Symonds Limited. “QS Asia University Rankings 2023 - Overall.” Top Universities. [Online]. Available: https://www.topuniversities.com/university-rankings/asia-university-rankings/2023. \n",
    "\n",
    "**Terms of use of data**\n",
    "\n",
    "[5] Swiss Government. “Terms and conditions.” Der Bundesrat admin.ch - Startseite. [Online]. Available: https://www.admin.ch/gov/en/start/terms-and-conditions.html#1938362905. \n",
    "\n",
    "[6] Source acknowledgement and Licence: This report contains information from \"Graduate Employment Survey - NTU, NUS, SIT, SMU, SUSS & SUTD\" accessed on 3/12/2022 from [Data.gov.sg](https://data.gov.sg/dataset/graduate-employment-survey-ntu-nus-sit-smu-suss-sutd?view_id=3acab4a4-2eb4-426f-8c92-e7fa21825b9d&resource_id=3a60220a-80ae-4a63-afde-413f05328914) which is made available under the terms of the [Singapore Open Data Licence version 1.0](https://data.gov.sg/open-data-licence)\n",
    "\n",
    "[7] S. Collier, “World University Rankings – Frequently asked questions,” Top Universities, 13-Oct-2022. [Online]. Available: https://www.topuniversities.com/university-rankings-articles/world-university-rankings/world-university-rankings-frequently-asked-questions\n",
    "\n",
    "**cross references**\n",
    "\n",
    "[8] “2018 academic ranking of world universities,” ShanghaiRanking's Academic Ranking of World Universities. [Online]. Available: https://www.shanghairanking.com/rankings/arwu/2018. \n",
    "\n",
    "[9] “2020 Academic Ranking of World universities,” ShanghaiRanking's Academic Ranking of World Universities. [Online]. Available: https://www.shanghairanking.com/rankings/arwu/2020 "
   ]
  }
 ],
 "metadata": {
  "kernelspec": {
   "display_name": "Python 3 (ipykernel)",
   "language": "python",
   "name": "python3"
  },
  "language_info": {
   "codemirror_mode": {
    "name": "ipython",
    "version": 3
   },
   "file_extension": ".py",
   "mimetype": "text/x-python",
   "name": "python",
   "nbconvert_exporter": "python",
   "pygments_lexer": "ipython3",
   "version": "3.9.12"
  },
  "toc-autonumbering": true,
  "toc-showtags": false,
  "vscode": {
   "interpreter": {
    "hash": "90312d0ea099edf0eecdc41a433d99256e28b06fef41cbf9d4f492bfef2f988e"
   }
  }
 },
 "nbformat": 4,
 "nbformat_minor": 4
}
